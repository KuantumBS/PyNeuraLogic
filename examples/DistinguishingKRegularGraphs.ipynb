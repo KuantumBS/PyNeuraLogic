{
 "cells": [
  {
   "cell_type": "markdown",
   "metadata": {},
   "source": [
    "# Distinguishing k-regular graphs\n",
    "\n",
    "Multiple graph structures are not distinguishable by the standard message\n",
    "passing Graph Neural Networks.\n",
    "For instance, the Graph Neural Networks are not able to distinguish between\n",
    "_k_-regular graphs of the same size, such as the pair shown in the following image. Those graphs are not isomorphic and are both $3$-regular, meaning all nodes have precisely three neighbors.\n",
    "\n",
    "![3-Regular Graphs](https://raw.githubusercontent.com/LukasZahradnik/PyNeuraLogic/master/docs/_static/k_regular_graph.png)"
   ]
  },
  {
   "cell_type": "code",
   "execution_count": 1,
   "metadata": {
    "pycharm": {
     "name": "#%%\n"
    }
   },
   "outputs": [],
   "source": [
    "from neuralogic.nn import get_evaluator\n",
    "from neuralogic.core import Backend\n",
    "from neuralogic.core import Relation, Template, Var, Term\n",
    "from neuralogic.core.settings import Settings, Optimizer\n",
    "from neuralogic.utils.data import Dataset"
   ]
  },
  {
   "cell_type": "markdown",
   "metadata": {},
   "source": [
    "When we assign the same features to all nodes, the messages during the\n",
    "update step of message passing GNNs will be identical, resulting in\n",
    "the same features and eventually classifying both graphs as the same class.\n",
    "Such misclassification can be problematic in multiple domains, e.g.,\n",
    "chemistry, where two indistinguishable graphs represent two different molecules.\n",
    "\n",
    "Via the PyNeuraLogic library, we are able to embed the pattern of both graphs\n",
    "or their parts. There are many alternative approaches to distinguish between\n",
    "those two graphs; our presented example utilizes encoding of triangles to capture\n",
    "triangles of graph _b_, with additional rules aggregating the\n",
    "general graph structure.\n"
   ]
  },
  {
   "cell_type": "code",
   "execution_count": 2,
   "metadata": {
    "pycharm": {
     "name": "#%%\n"
    }
   },
   "outputs": [],
   "source": [
    "train_dataset = Dataset()\n",
    "template = Template()\n",
    "\n",
    "template.add_rules([\n",
    "    # Captures triangle\n",
    "    Relation.triangle(Var.X)[1,] <= (\n",
    "        Relation.edge(Var.X, Var.Y), Relation.feature(Var.Y)[1,],\n",
    "        Relation.edge(Var.Y, Var.Z), Relation.feature(Var.Z)[1,],\n",
    "        Relation.edge(Var.Z, Var.X), Relation.feature(Var.X)[1,],\n",
    "    ),\n",
    "\n",
    "    # Captures general graph\n",
    "    Relation.general(Var.X)[1,] <= (Relation.edge(Var.X, Var.Y), Relation.feature(Var.Y)[1,]),\n",
    "    Relation.general(Var.X)[1,] <= Relation.feature(Var.Y)[1,],\n",
    "\n",
    "    Relation.predict <= Relation.general(Var.X)[1,],\n",
    "    Relation.predict <= Relation.triangle(Var.X)[1,],\n",
    "])\n",
    "\n",
    "train_dataset.add_example(\n",
    "    [\n",
    "        Relation.edge(1, 2), Relation.edge(2, 3), Relation.edge(3, 4), Relation.edge(4, 1),\n",
    "        Relation.edge(2, 1), Relation.edge(3, 2), Relation.edge(4, 3), Relation.edge(1, 4),\n",
    "        Relation.edge(1, 6), Relation.edge(3, 6), Relation.edge(4, 5), Relation.edge(2, 5),\n",
    "        Relation.edge(6, 1), Relation.edge(6, 3), Relation.edge(5, 4), Relation.edge(5, 2),\n",
    "\n",
    "        Relation.feature(1), Relation.feature(2), Relation.feature(3),\n",
    "        Relation.feature(4), Relation.feature(5), Relation.feature(6),\n",
    "    ],\n",
    ")\n",
    "\n",
    "train_dataset.add_example(\n",
    "    [\n",
    "        Relation.edge(1, 2), Relation.edge(2, 3), Relation.edge(3, 4), Relation.edge(4, 1),\n",
    "        Relation.edge(2, 1), Relation.edge(3, 2), Relation.edge(4, 3), Relation.edge(1, 4),\n",
    "        Relation.edge(1, 6), Relation.edge(4, 6), Relation.edge(3, 5), Relation.edge(2, 5),\n",
    "        Relation.edge(6, 1), Relation.edge(6, 4), Relation.edge(5, 3), Relation.edge(5, 2),\n",
    "\n",
    "        Relation.feature(1), Relation.feature(2), Relation.feature(3),\n",
    "        Relation.feature(4), Relation.feature(5), Relation.feature(6),\n",
    "    ],\n",
    ")\n",
    "\n",
    "train_dataset.add_queries([\n",
    "    Relation.predict[1],\n",
    "    Relation.predict[0],\n",
    "])"
   ]
  },
  {
   "cell_type": "code",
   "execution_count": 3,
   "metadata": {
    "pycharm": {
     "name": "#%%\n"
    }
   },
   "outputs": [
    {
     "name": "stderr",
     "output_type": "stream",
     "text": [
      "[dynet] random seed: 2995899108\n",
      "[dynet] allocating memory: 512MB\n",
      "[dynet] memory allocation done.\n"
     ]
    },
    {
     "name": "stdout",
     "output_type": "stream",
     "text": [
      "Graph a is predicted to be class: 1 | 0.9270843863487244\n",
      "Graph b is predicted to be class: 0 | 0.02791881561279297\n"
     ]
    }
   ],
   "source": [
    "settings = Settings(optimizer=Optimizer.SGD, epochs=200)\n",
    "neuralogic_evaluator = get_evaluator(template, Backend.DYNET, settings)\n",
    "\n",
    "for _ in neuralogic_evaluator.train(train_dataset):\n",
    "    pass\n",
    "\n",
    "graphs = [\"a\", \"b\"]\n",
    "\n",
    "for graph_id, (label, predicted) in enumerate(neuralogic_evaluator.test(train_dataset)):\n",
    "    print(f\"Graph {graphs[graph_id]} is predicted to be class: {int(round(predicted))} | {predicted}\")"
   ]
  }
 ],
 "metadata": {
  "kernelspec": {
   "display_name": "Python 3 (ipykernel)",
   "language": "python",
   "name": "python3"
  },
  "language_info": {
   "codemirror_mode": {
    "name": "ipython",
    "version": 3
   },
   "file_extension": ".py",
   "mimetype": "text/x-python",
   "name": "python",
   "nbconvert_exporter": "python",
   "pygments_lexer": "ipython3",
   "version": "3.8.10"
  }
 },
 "nbformat": 4,
 "nbformat_minor": 1
}