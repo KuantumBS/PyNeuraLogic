{
 "cells": [
  {
   "cell_type": "markdown",
   "source": [
    "# Distinguishing k-regular graphs\n",
    "\n",
    "Multiple graph structures are not distinguishable by the standard message\n",
    "passing Graph Neural Networks.\n",
    "For instance, the Graph Neural Networks are not able to distinguish between\n",
    "_k_-regular graphs of the same size.",
    "Those graphs are not isomorphic and are both $3$-regular, meaning all nodes have precisely three neighbors."
   ],
   "metadata": {
    "collapsed": false
   }
  },
  {
   "cell_type": "code",
   "source": [
    "from neuralogic.nn import get_evaluator\n",
    "from neuralogic.core import Backend\n",
    "from neuralogic.core import Atom, Template, Var, Term\n",
    "from neuralogic.core.settings import Settings, Optimizer\n",
    "from neuralogic.utils.data import Dataset"
   ],
   "metadata": {
    "collapsed": false,
    "pycharm": {
     "name": "#%%\n"
    }
   },
   "execution_count": 4,
   "outputs": []
  },
  {
   "cell_type": "markdown",
   "source": [
    "When we assign the same features to all nodes, the messages during the\n",
    "update step of message passing GNNs will be identical, resulting in\n",
    "the same features and eventually classifying both graphs as the same class.\n",
    "Such misclassification can be problematic in multiple domains, e.g.,\n",
    "chemistry, where two indistinguishable graphs represent two different molecules.\n",
    "\n",
    "Via the PyNeuraLogic library, we are able to embed the pattern of both graphs\n",
    "or their parts. There are many alternative approaches to distinguish between\n",
    "those two graphs; our presented example utilizes previously\n",
    "shown encoding of triangles to capture\n",
    "triangles of graph _b_, with additional rules aggregating the\n",
    "general graph structure.\n"
   ],
   "metadata": {
    "collapsed": false
   }
  },
  {
   "cell_type": "code",
   "execution_count": 5,
   "outputs": [],
   "source": [
    "settings = Settings(optimizer=Optimizer.SGD, epochs=200)\n",
    "train_dataset = Dataset()\n",
    "\n",
    "with Template(settings).context() as template:\n",
    "    template.add_rules([\n",
    "        # Captures triangle\n",
    "        Atom.triangle(Var.X)[1,] <= (\n",
    "            Atom.edge(Var.X, Var.Y), Atom.feature(Var.Y)[1,],\n",
    "            Atom.edge(Var.Y, Var.Z), Atom.feature(Var.Z)[1,],\n",
    "            Atom.edge(Var.Z, Var.X), Atom.feature(Var.X)[1,],\n",
    "        ),\n",
    "\n",
    "        # Captures general graph\n",
    "        Atom.general(Var.X)[1,] <= (Atom.edge(Var.X, Var.Y), Atom.feature(Var.Y)[1,]),\n",
    "        Atom.general(Var.X)[1,] <= Atom.feature(Var.Y)[1,],\n",
    "\n",
    "        Atom.predict <= Atom.general(Var.X)[1,],\n",
    "        Atom.predict <= Atom.triangle(Var.X)[1,],\n",
    "    ])\n",
    "\n",
    "    train_dataset.add_example(\n",
    "        [\n",
    "            Atom.edge(1, 2), Atom.edge(2, 3), Atom.edge(3, 4), Atom.edge(4, 1),\n",
    "            Atom.edge(2, 1), Atom.edge(3, 2), Atom.edge(4, 3), Atom.edge(1, 4),\n",
    "            Atom.edge(1, 6), Atom.edge(3, 6), Atom.edge(4, 5), Atom.edge(2, 5),\n",
    "            Atom.edge(6, 1), Atom.edge(6, 3), Atom.edge(5, 4), Atom.edge(5, 2),\n",
    "\n",
    "            Atom.feature(1), Atom.feature(2), Atom.feature(3),\n",
    "            Atom.feature(4), Atom.feature(5), Atom.feature(6),\n",
    "        ],\n",
    "    )\n",
    "\n",
    "    train_dataset.add_example(\n",
    "        [\n",
    "            Atom.edge(1, 2), Atom.edge(2, 3), Atom.edge(3, 4), Atom.edge(4, 1),\n",
    "            Atom.edge(2, 1), Atom.edge(3, 2), Atom.edge(4, 3), Atom.edge(1, 4),\n",
    "            Atom.edge(1, 6), Atom.edge(4, 6), Atom.edge(3, 5), Atom.edge(2, 5),\n",
    "            Atom.edge(6, 1), Atom.edge(6, 4), Atom.edge(5, 3), Atom.edge(5, 2),\n",
    "\n",
    "            Atom.feature(1), Atom.feature(2), Atom.feature(3),\n",
    "            Atom.feature(4), Atom.feature(5), Atom.feature(6),\n",
    "        ],\n",
    "    )\n",
    "\n",
    "    train_dataset.add_queries([\n",
    "        Atom.predict[1],\n",
    "        Atom.predict[0],\n",
    "    ])"
   ],
   "metadata": {
    "collapsed": false,
    "pycharm": {
     "name": "#%%\n"
    }
   }
  },
  {
   "cell_type": "code",
   "execution_count": 6,
   "outputs": [
    {
     "name": "stdout",
     "output_type": "stream",
     "text": [
      "Graph a is predicted to be class: 1 | 0.9096135497093201\n",
      "Graph b is predicted to be class: 0 | 0.03949236869812012\n"
     ]
    }
   ],
   "source": [
    "neuralogic_evaluator = get_evaluator(Backend.DYNET, template)\n",
    "\n",
    "for _ in neuralogic_evaluator.train(train_dataset):\n",
    "    pass\n",
    "\n",
    "graphs = [\"a\", \"b\"]\n",
    "\n",
    "for graph_id, (label, predicted) in enumerate(neuralogic_evaluator.test(train_dataset)):\n",
    "    print(f\"Graph {graphs[graph_id]} is predicted to be class: {int(round(predicted))} | {predicted}\")"
   ],
   "metadata": {
    "collapsed": false,
    "pycharm": {
     "name": "#%%\n"
    }
   }
  }
 ],
 "metadata": {
  "kernelspec": {
   "display_name": "Python 3",
   "language": "python",
   "name": "python3"
  },
  "language_info": {
   "codemirror_mode": {
    "name": "ipython",
    "version": 2
   },
   "file_extension": ".py",
   "mimetype": "text/x-python",
   "name": "python",
   "nbconvert_exporter": "python",
   "pygments_lexer": "ipython2",
   "version": "2.7.6"
  }
 },
 "nbformat": 4,
 "nbformat_minor": 0
}
