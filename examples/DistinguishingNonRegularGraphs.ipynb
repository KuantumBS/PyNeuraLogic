{
 "cells": [
  {
   "cell_type": "markdown",
   "metadata": {},
   "source": [
    "# Distinguishing non-regular graphs\n",
    "\n",
    "There are instances of graphs that are not *k*-regular nor isomorphic and yet\n",
    "are not distinguishable via the message passing GNNs when their nodes\n",
    "have identical features. An example of such graphs is shown in the following image.\n",
    "\n",
    "![Non Regular Graphs](https://raw.githubusercontent.com/LukasZahradnik/PyNeuraLogic/master/docs/_static/non_regular_graphs.png)\n",
    "\n",
    "\n",
    "In PyNeuraLogic, we are capable of distinguishing those graphs,\n",
    "for example, via the previously proposed model (Distinguishing K Regular Graphs example)\n",
    "which captures triangles of graph _a_ to distinguish between graphs."
   ]
  },
  {
   "cell_type": "code",
   "execution_count": 1,
   "metadata": {
    "pycharm": {
     "name": "#%%\n"
    }
   },
   "outputs": [],
   "source": [
    "from neuralogic.nn import get_evaluator\n",
    "from neuralogic.core import Backend\n",
    "from neuralogic.core import Relation, Template, Var, Term\n",
    "from neuralogic.core.settings import Settings, Optimizer\n",
    "from neuralogic.utils.data import Dataset\n"
   ]
  },
  {
   "cell_type": "code",
   "execution_count": 2,
   "metadata": {
    "pycharm": {
     "name": "#%%\n"
    }
   },
   "outputs": [],
   "source": [
    "train_dataset = Dataset()\n",
    "template = Template()\n",
    "\n",
    "template.add_rules([\n",
    "    # Captures triangle\n",
    "    Relation.triangle(Var.X)[1,] <= (\n",
    "        Relation.edge(Var.X, Var.Y), Relation.feature(Var.Y)[1,],\n",
    "        Relation.edge(Var.Y, Var.Z), Relation.feature(Var.Z)[1,],\n",
    "        Relation.edge(Var.Z, Var.X), Relation.feature(Var.X)[1,],\n",
    "    ),\n",
    "\n",
    "    # Captures general graph\n",
    "    Relation.general(Var.X)[1,] <= (Relation.edge(Var.X, Var.Y), Relation.feature(Var.Y)[1,]),\n",
    "    Relation.general(Var.X)[1,] <= Relation.feature(Var.Y)[1,],\n",
    "\n",
    "    Relation.predict <= Relation.general(Var.X)[1,],\n",
    "    Relation.predict <= Relation.triangle(Var.X)[1,],\n",
    "])\n",
    "\n",
    "# Encoding of graph a)\n",
    "train_dataset.add_example(\n",
    "    [\n",
    "        Relation.edge(1, 2), Relation.edge(2, 3), Relation.edge(3, 1), Relation.edge(2, 4),\n",
    "        Relation.edge(4, 5), Relation.edge(5, 6), Relation.edge(6, 4),\n",
    "        Relation.edge(2, 1), Relation.edge(3, 2), Relation.edge(1, 3), Relation.edge(4, 2),\n",
    "        Relation.edge(5, 4), Relation.edge(6, 5), Relation.edge(4, 6),\n",
    "\n",
    "        Relation.feature(1), Relation.feature(2), Relation.feature(3),\n",
    "        Relation.feature(4), Relation.feature(5), Relation.feature(6),\n",
    "    ],\n",
    ")\n",
    "\n",
    "# Encoding of graph b)\n",
    "train_dataset.add_example(\n",
    "    [\n",
    "        Relation.edge(1, 2), Relation.edge(2, 3), Relation.edge(3, 4), Relation.edge(4, 1),\n",
    "        Relation.edge(2, 5), Relation.edge(5, 6), Relation.edge(6, 3),\n",
    "        Relation.edge(2, 1), Relation.edge(3, 2), Relation.edge(4, 3), Relation.edge(1, 4),\n",
    "        Relation.edge(5, 2), Relation.edge(6, 5), Relation.edge(3, 6),\n",
    "\n",
    "        Relation.feature(1), Relation.feature(2), Relation.feature(3),\n",
    "        Relation.feature(4), Relation.feature(5), Relation.feature(6),\n",
    "    ],\n",
    ")\n",
    "\n",
    "train_dataset.add_queries([\n",
    "    Relation.predict[1],\n",
    "    Relation.predict[0],\n",
    "])"
   ]
  },
  {
   "cell_type": "code",
   "execution_count": 3,
   "metadata": {
    "pycharm": {
     "name": "#%%\n"
    }
   },
   "outputs": [
    {
     "name": "stdout",
     "output_type": "stream",
     "text": [
      "Graph a is predicted to be class: 1 | 0.9294944095434514\n",
      "Graph b is predicted to be class: 0 | 0.07101553696957114\n"
     ]
    }
   ],
   "source": [
    "settings = Settings(optimizer=Optimizer.SGD, epochs=200)\n",
    "neuralogic_evaluator = get_evaluator(template, Backend.JAVA, settings)\n",
    "\n",
    "for _ in neuralogic_evaluator.train(train_dataset):\n",
    "    pass\n",
    "\n",
    "graphs = [\"a\", \"b\"]\n",
    "\n",
    "for graph_id, (label, predicted) in enumerate(neuralogic_evaluator.test(train_dataset)):\n",
    "    print(f\"Graph {graphs[graph_id]} is predicted to be class: {int(round(predicted))} | {predicted}\")"
   ]
  },
  {
   "cell_type": "markdown",
   "metadata": {},
   "source": [
    "Another interesting approach of a slightly different extension\n",
    "of vanilla GNNs might be capturing based on the structure and the\n",
    "cardinality of nodes. We can add additional information about the\n",
    "cardinality of each node into examples, for instance, as atoms with\n",
    "predicate's name *cardinality* with two terms -\n",
    "the node id and its cardinality. We can then choose which atom will\n",
    "be aggregated based on its cardinality to distinguish graph _a_ and graph *b*, as shown in Example 2, where we capture only sub-graphs of graphs\n",
    "\n",
    "The `a_graph` captures a triangle (`Var.X`, `Var.Y`, `Var.Z`)\n",
    "connected to one node (`Var.T`) with a cardinality of three.\n",
    "In contrast, the `b_graph` captures a cycle of length of four\n",
    " (`Var.X`, `Var.Y`, `Var.Z`, `Var.T`)\n",
    " which has to satisfy required cardinalities.\n",
    "\n",
    "\n",
    "#### Example 2: Distinguishing between graphs based on their cardinality"
   ]
  },
  {
   "cell_type": "code",
   "execution_count": 4,
   "metadata": {
    "pycharm": {
     "name": "#%%\n"
    }
   },
   "outputs": [],
   "source": [
    "settings = Settings(optimizer=Optimizer.SGD, epochs=200)\n",
    "train_dataset = Dataset()\n",
    "\n",
    "template = Template(settings)\n",
    "\n",
    "template.add_rules([\n",
    "    Relation.a_graph(Var.X) <= (\n",
    "        Relation.edge(Var.X, Var.Y), Relation.cardinality(Var.Y, 2)[1,],\n",
    "        Relation.edge(Var.Y, Var.Z), Relation.cardinality(Var.Z, 2)[1,],\n",
    "        Relation.edge(Var.Z, Var.X), Relation.cardinality(Var.X, 3)[1,],\n",
    "        Relation.edge(Var.X, Var.T), Relation.cardinality(Var.T, 3)[1,],\n",
    "        Relation.special.alldiff(...),\n",
    "    ),\n",
    "    Relation.b_graph(Var.X) <= (\n",
    "        Relation.edge(Var.X, Var.Y), Relation.cardinality(Var.Y, 2)[1,],\n",
    "        Relation.edge(Var.Y, Var.Z), Relation.cardinality(Var.Z, 2)[1,],\n",
    "        Relation.edge(Var.Z, Var.T), Relation.cardinality(Var.T, 3)[1,],\n",
    "        Relation.edge(Var.T, Var.X), Relation.cardinality(Var.X, 3)[1,],\n",
    "        Relation.special.alldiff(...),\n",
    "    ),\n",
    "    Relation.predict <= Relation.a_graph(Var.X)[1,],\n",
    "    Relation.predict <= Relation.b_graph(Var.X)[1,],\n",
    "])\n",
    "\n",
    "# Encoding of graph a)\n",
    "train_dataset.add_example(\n",
    "    [\n",
    "        Relation.edge(1, 2), Relation.edge(2, 3), Relation.edge(3, 1), Relation.edge(2, 4),\n",
    "        Relation.edge(4, 5), Relation.edge(5, 6), Relation.edge(6, 4),\n",
    "        Relation.edge(2, 1), Relation.edge(3, 2), Relation.edge(1, 3), Relation.edge(4, 2),\n",
    "        Relation.edge(5, 4), Relation.edge(6, 5), Relation.edge(4, 6),\n",
    "\n",
    "        Relation.cardinality(1, 2), Relation.cardinality(2, 3), Relation.cardinality(3, 2),\n",
    "        Relation.cardinality(4, 3), Relation.cardinality(5, 2), Relation.cardinality(6, 2),\n",
    "    ],\n",
    ")\n",
    "\n",
    "# Encoding of graph b)\n",
    "train_dataset.add_example(\n",
    "    [\n",
    "        Relation.edge(1, 2), Relation.edge(2, 3), Relation.edge(3, 4), Relation.edge(4, 1),\n",
    "        Relation.edge(2, 5), Relation.edge(5, 6), Relation.edge(6, 3),\n",
    "        Relation.edge(2, 1), Relation.edge(3, 2), Relation.edge(4, 3), Relation.edge(1, 4),\n",
    "        Relation.edge(5, 2), Relation.edge(6, 5), Relation.edge(3, 6),\n",
    "\n",
    "        Relation.cardinality(1, 2), Relation.cardinality(2, 3), Relation.cardinality(3, 3),\n",
    "        Relation.cardinality(4, 2), Relation.cardinality(5, 2), Relation.cardinality(6, 2),\n",
    "    ],\n",
    ")\n",
    "\n",
    "train_dataset.add_queries([\n",
    "    Relation.predict[1],\n",
    "    Relation.predict[0],\n",
    "])"
   ]
  },
  {
   "cell_type": "code",
   "execution_count": 5,
   "metadata": {
    "pycharm": {
     "name": "#%%\n"
    }
   },
   "outputs": [
    {
     "name": "stderr",
     "output_type": "stream",
     "text": [
      "[dynet] random seed: 1852711818\n",
      "[dynet] allocating memory: 512MB\n",
      "[dynet] memory allocation done.\n"
     ]
    },
    {
     "name": "stdout",
     "output_type": "stream",
     "text": [
      "Graph a is predicted to be class: 1 | 0.891069233417511\n",
      "Graph b is predicted to be class: 0 | -9.999054311746409e-23\n"
     ]
    }
   ],
   "source": [
    "neuralogic_evaluator = get_evaluator(template, Backend.DYNET)\n",
    "\n",
    "for _ in neuralogic_evaluator.train(train_dataset):\n",
    "    pass\n",
    "\n",
    "graphs = [\"a\", \"b\"]\n",
    "\n",
    "for graph_id, (label, predicted) in enumerate(neuralogic_evaluator.test(train_dataset)):\n",
    "    print(f\"Graph {graphs[graph_id]} is predicted to be class: {int(round(predicted))} | {predicted}\")"
   ]
  },
  {
   "cell_type": "markdown",
   "metadata": {
    "pycharm": {
     "name": "#%% md\n"
    }
   },
   "source": [
    "![Non Regular Molecules](https://raw.githubusercontent.com/LukasZahradnik/PyNeuraLogic/master/docs/_static/non_regular_molecules.png)\n",
    "\n",
    "The image above shows two graphs, a\n",
    "and b,\n",
    "representing a real-world structure of two molecules _Bicyclopentyl_\n",
    "and *Decalin*, respectively. The message passing GNN cannot again distinguish between\n",
    "graphs under the condition of identical features for all nodes.\n",
    "In PyNeuraLogic, we can embed, for example, the cycle of length five present in\n",
    "graph _a_ and thus distinguish those instances, such as is shown in\n",
    "Example 3.\n",
    "\n",
    "\n",
    "#### Example 3: Capturing the cycle of the length of five"
   ]
  },
  {
   "cell_type": "code",
   "execution_count": 6,
   "metadata": {
    "pycharm": {
     "name": "#%%\n"
    }
   },
   "outputs": [],
   "source": [
    "settings = Settings(optimizer=Optimizer.SGD, epochs=200)\n",
    "train_dataset = Dataset()\n",
    "template = Template(settings)\n",
    "\n",
    "template.add_rules([\n",
    "    # Captures cycle of the length of five (Bicyclopentyl)\n",
    "    Relation.cycle_of_the_length_of_five(Var.X)[1,] <= (\n",
    "        Relation.edge(Var.X, Var.Y), Relation.feature(Var.Y)[1,],\n",
    "        Relation.edge(Var.Y, Var.Z), Relation.feature(Var.Z)[1,],\n",
    "        Relation.edge(Var.Z, Var.R), Relation.feature(Var.R)[1,],\n",
    "        Relation.edge(Var.R, Var.S), Relation.feature(Var.S)[1,],\n",
    "        Relation.edge(Var.S, Var.X), Relation.feature(Var.X)[1,],\n",
    "        Relation.special.alldiff(...),\n",
    "    ),\n",
    "\n",
    "    # Captures general graph (such as Decalin)\n",
    "    Relation.general(Var.X)[1,] <= (Relation.edge(Var.X, Var.Y), Relation.feature(Var.Y)[1,]),\n",
    "    Relation.general(Var.X)[1,] <= Relation.feature(Var.Y)[1,],\n",
    "\n",
    "    Relation.predict <= Relation.general(Var.X)[1,],\n",
    "    Relation.predict <= Relation.cycle_of_the_length_of_five(Var.X)[1,],\n",
    "])\n",
    "\n",
    "# Encoding of graph Bicyclopentyl\n",
    "train_dataset.add_example(\n",
    "    [\n",
    "        Relation.edge(1, 2), Relation.edge(2, 3), Relation.edge(3, 4), Relation.edge(4, 5), Relation.edge(5, 1), Relation.edge(1, 6),\n",
    "        Relation.edge(2, 1), Relation.edge(3, 2), Relation.edge(4, 3), Relation.edge(5, 4), Relation.edge(1, 5), Relation.edge(6, 1),\n",
    "        Relation.edge(6, 7), Relation.edge(7, 8), Relation.edge(8, 9), Relation.edge(9, 10), Relation.edge(10, 6),\n",
    "        Relation.edge(7, 6), Relation.edge(8, 7), Relation.edge(9, 8), Relation.edge(10, 9), Relation.edge(6, 10),\n",
    "\n",
    "        Relation.feature(1), Relation.feature(2), Relation.feature(3), Relation.feature(4), Relation.feature(5),\n",
    "        Relation.feature(6), Relation.feature(7), Relation.feature(8), Relation.feature(9), Relation.feature(10),\n",
    "    ],\n",
    ")\n",
    "\n",
    "# Encoding of graph Decalin\n",
    "train_dataset.add_example(\n",
    "    [\n",
    "        Relation.edge(1, 2), Relation.edge(2, 3), Relation.edge(3, 4), Relation.edge(4, 5), Relation.edge(5, 6), Relation.edge(1, 6),\n",
    "        Relation.edge(2, 1), Relation.edge(3, 2), Relation.edge(4, 3), Relation.edge(5, 4), Relation.edge(6, 5), Relation.edge(6, 1),\n",
    "        Relation.edge(6, 7), Relation.edge(7, 8), Relation.edge(8, 9), Relation.edge(9, 10), Relation.edge(10, 1),\n",
    "        Relation.edge(7, 6), Relation.edge(8, 7), Relation.edge(9, 8), Relation.edge(10, 9), Relation.edge(1, 10),\n",
    "\n",
    "        Relation.feature(1), Relation.feature(2), Relation.feature(3), Relation.feature(4), Relation.feature(5),\n",
    "        Relation.feature(6), Relation.feature(7), Relation.feature(8), Relation.feature(9), Relation.feature(10),\n",
    "    ],\n",
    ")\n",
    "\n",
    "train_dataset.add_queries([\n",
    "    Relation.predict[1],\n",
    "    Relation.predict[0],\n",
    "])"
   ]
  },
  {
   "cell_type": "code",
   "execution_count": 7,
   "metadata": {
    "pycharm": {
     "name": "#%%\n"
    }
   },
   "outputs": [
    {
     "name": "stdout",
     "output_type": "stream",
     "text": [
      "Graph Bicyclopentyl is predicted to be class: 1 | 0.9292657971382141\n",
      "Graph Decalin is predicted to be class: 0 | 0.08129000663757324\n"
     ]
    }
   ],
   "source": [
    "neuralogic_evaluator = get_evaluator(template, Backend.DYNET)\n",
    "\n",
    "for _ in neuralogic_evaluator.train(train_dataset):\n",
    "    pass\n",
    "\n",
    "graphs = [\"Bicyclopentyl\", \"Decalin\"]\n",
    "\n",
    "for graph_id, (label, predicted) in enumerate(neuralogic_evaluator.test(train_dataset)):\n",
    "    print(f\"Graph {graphs[graph_id]} is predicted to be class: {int(round(predicted))} | {predicted}\")"
   ]
  }
 ],
 "metadata": {
  "kernelspec": {
   "display_name": "Python 3 (ipykernel)",
   "language": "python",
   "name": "python3"
  },
  "language_info": {
   "codemirror_mode": {
    "name": "ipython",
    "version": 3
   },
   "file_extension": ".py",
   "mimetype": "text/x-python",
   "name": "python",
   "nbconvert_exporter": "python",
   "pygments_lexer": "ipython3",
   "version": "3.8.10"
  }
 },
 "nbformat": 4,
 "nbformat_minor": 1
}