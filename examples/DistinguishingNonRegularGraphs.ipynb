{
 "cells": [
  {
   "cell_type": "markdown",
   "source": [
    "# Distinguishing non-regular graphs\n",
    "\n",
    "There are instances of graphs that are not *k*-regular nor isomorphic and yet\n",
    "are not distinguishable via the message passing GNNs when their nodes\n",
    "have identical features \\cite{gnnpower}. An example of such graphs\n",
    "is shown in Figure \\ref{fig:nonregular}.\n",
    "In PyNeuraLogic, we are capable of distinguishing those graphs,\n",
    "for example, via the previously proposed model (\\ref{lst:disttria})\n",
    "which captures triangles of graph _a_ to distinguish between graphs."
   ],
   "metadata": {
    "collapsed": false
   }
  },
  {
   "cell_type": "code",
   "source": [
    "from neuralogic.nn import get_evaluator\n",
    "from neuralogic.core import Backend\n",
    "from neuralogic.core import Atom, Template, Var, Term\n",
    "from neuralogic.core.settings import Settings, Optimizer\n",
    "from neuralogic.utils.data import Dataset"
   ],
   "metadata": {
    "collapsed": false,
    "pycharm": {
     "name": "#%%\n"
    }
   },
   "execution_count": 1,
   "outputs": []
  },
  {
   "cell_type": "code",
   "execution_count": 2,
   "outputs": [],
   "source": [
    "settings = Settings(optimizer=Optimizer.SGD, epochs=200)\n",
    "train_dataset = Dataset()\n",
    "\n",
    "with Template(settings).context() as template:\n",
    "    template.add_rules([\n",
    "        # Captures triangle\n",
    "        Atom.triangle(Var.X)[1,] <= (\n",
    "            Atom.edge(Var.X, Var.Y), Atom.feature(Var.Y)[1,],\n",
    "            Atom.edge(Var.Y, Var.Z), Atom.feature(Var.Z)[1,],\n",
    "            Atom.edge(Var.Z, Var.X), Atom.feature(Var.X)[1,],\n",
    "        ),\n",
    "\n",
    "        # Captures general graph\n",
    "        Atom.general(Var.X)[1,] <= (Atom.edge(Var.X, Var.Y), Atom.feature(Var.Y)[1,]),\n",
    "        Atom.general(Var.X)[1,] <= Atom.feature(Var.Y)[1,],\n",
    "\n",
    "        Atom.predict <= Atom.general(Var.X)[1,],\n",
    "        Atom.predict <= Atom.triangle(Var.X)[1,],\n",
    "    ])\n",
    "\n",
    "    # Encoding of graph a)\n",
    "    train_dataset.add_example(\n",
    "        [\n",
    "            Atom.edge(1, 2), Atom.edge(2, 3), Atom.edge(3, 1), Atom.edge(2, 4),\n",
    "            Atom.edge(4, 5), Atom.edge(5, 6), Atom.edge(6, 4),\n",
    "            Atom.edge(2, 1), Atom.edge(3, 2), Atom.edge(1, 3), Atom.edge(4, 2),\n",
    "            Atom.edge(5, 4), Atom.edge(6, 5), Atom.edge(4, 6),\n",
    "\n",
    "            Atom.feature(1), Atom.feature(2), Atom.feature(3),\n",
    "            Atom.feature(4), Atom.feature(5), Atom.feature(6),\n",
    "        ],\n",
    "    )\n",
    "\n",
    "    # Encoding of graph b)\n",
    "    train_dataset.add_example(\n",
    "        [\n",
    "            Atom.edge(1, 2), Atom.edge(2, 3), Atom.edge(3, 4), Atom.edge(4, 1),\n",
    "            Atom.edge(2, 5), Atom.edge(5, 6), Atom.edge(6, 3),\n",
    "            Atom.edge(2, 1), Atom.edge(3, 2), Atom.edge(4, 3), Atom.edge(1, 4),\n",
    "            Atom.edge(5, 2), Atom.edge(6, 5), Atom.edge(3, 6),\n",
    "\n",
    "            Atom.feature(1), Atom.feature(2), Atom.feature(3),\n",
    "            Atom.feature(4), Atom.feature(5), Atom.feature(6),\n",
    "        ],\n",
    "    )\n",
    "\n",
    "    train_dataset.add_queries([\n",
    "        Atom.predict[1],\n",
    "        Atom.predict[0],\n",
    "    ])"
   ],
   "metadata": {
    "collapsed": false,
    "pycharm": {
     "name": "#%%\n"
    }
   }
  },
  {
   "cell_type": "code",
   "execution_count": 3,
   "outputs": [
    {
     "name": "stdout",
     "output_type": "stream",
     "text": [
      "Graph a is predicted to be class: 1 | 0.9537661075592041\n",
      "Graph b is predicted to be class: 0 | 0.05284144729375839\n"
     ]
    }
   ],
   "source": [
    "neuralogic_evaluator = get_evaluator(Backend.DYNET, template)\n",
    "\n",
    "for _ in neuralogic_evaluator.train(train_dataset):\n",
    "    pass\n",
    "\n",
    "graphs = [\"a\", \"b\"]\n",
    "\n",
    "for graph_id, (label, predicted) in enumerate(neuralogic_evaluator.test(train_dataset)):\n",
    "    print(f\"Graph {graphs[graph_id]} is predicted to be class: {int(round(predicted))} | {predicted}\")"
   ],
   "metadata": {
    "collapsed": false,
    "pycharm": {
     "name": "#%%\n"
    }
   }
  },
  {
   "cell_type": "markdown",
   "source": [
    "Another interesting approach of a slightly different extension\n",
    "of vanilla GNNs might be capturing based on the structure and the\n",
    "cardinality of nodes. We can add additional information about the\n",
    "cardinality of each node into examples, for instance, as atoms with\n",
    "predicate's name *cardinality* with two terms -\n",
    "the node id and its cardinality. We can then choose which atom will\n",
    "be aggregated based on its cardinality to distinguish graph _a_ and graph *b*, as shown in Example 2, where we capture only sub-graphs of graphs\n",
    "\n",
    "The `a_graph` captures a triangle (`Var.X`, `Var.Y`, `Var.Z`)\n",
    "connected to one node (`Var.T`) with a cardinality of three.\n",
    "In contrast, the `b_graph` captures a cycle of length of four\n",
    " (`Var.X`, `Var.Y`, `Var.Z`, `Var.T`)\n",
    " which has to satisfy required cardinalities.\n",
    "\n",
    "\n",
    "#### Example 2: Distinguishing between graphs based on their cardinality"
   ],
   "metadata": {
    "collapsed": false
   }
  },
  {
   "cell_type": "code",
   "source": [
    "settings = Settings(optimizer=Optimizer.SGD, epochs=200)\n",
    "train_dataset = Dataset()\n",
    "\n",
    "with Template(settings).context() as template:\n",
    "    template.add_rules([\n",
    "        Atom.a_graph(Var.X) <= (\n",
    "            Atom.edge(Var.X, Var.Y), Atom.cardinality(Var.Y, 2)[1,],\n",
    "            Atom.edge(Var.Y, Var.Z), Atom.cardinality(Var.Z, 2)[1,],\n",
    "            Atom.edge(Var.Z, Var.X), Atom.cardinality(Var.X, 3)[1,],\n",
    "            Atom.edge(Var.X, Var.T), Atom.cardinality(Var.T, 3)[1,],\n",
    "            Atom.special.alldiff(...),\n",
    "        ),\n",
    "        Atom.b_graph(Var.X) <= (\n",
    "            Atom.edge(Var.X, Var.Y), Atom.cardinality(Var.Y, 2)[1,],\n",
    "            Atom.edge(Var.Y, Var.Z), Atom.cardinality(Var.Z, 2)[1,],\n",
    "            Atom.edge(Var.Z, Var.T), Atom.cardinality(Var.T, 3)[1,],\n",
    "            Atom.edge(Var.T, Var.X), Atom.cardinality(Var.X, 3)[1,],\n",
    "            Atom.special.alldiff(...),\n",
    "        ),\n",
    "        Atom.predict <= Atom.a_graph(Var.X)[1,],\n",
    "        Atom.predict <= Atom.b_graph(Var.X)[1,],\n",
    "    ])\n",
    "\n",
    "    # Encoding of graph a)\n",
    "    train_dataset.add_example(\n",
    "        [\n",
    "            Atom.edge(1, 2), Atom.edge(2, 3), Atom.edge(3, 1), Atom.edge(2, 4),\n",
    "            Atom.edge(4, 5), Atom.edge(5, 6), Atom.edge(6, 4),\n",
    "            Atom.edge(2, 1), Atom.edge(3, 2), Atom.edge(1, 3), Atom.edge(4, 2),\n",
    "            Atom.edge(5, 4), Atom.edge(6, 5), Atom.edge(4, 6),\n",
    "\n",
    "            Atom.cardinality(1, 2), Atom.cardinality(2, 3), Atom.cardinality(3, 2),\n",
    "            Atom.cardinality(4, 3), Atom.cardinality(5, 2), Atom.cardinality(6, 2),\n",
    "        ],\n",
    "    )\n",
    "\n",
    "    # Encoding of graph b)\n",
    "    train_dataset.add_example(\n",
    "        [\n",
    "            Atom.edge(1, 2), Atom.edge(2, 3), Atom.edge(3, 4), Atom.edge(4, 1),\n",
    "            Atom.edge(2, 5), Atom.edge(5, 6), Atom.edge(6, 3),\n",
    "            Atom.edge(2, 1), Atom.edge(3, 2), Atom.edge(4, 3), Atom.edge(1, 4),\n",
    "            Atom.edge(5, 2), Atom.edge(6, 5), Atom.edge(3, 6),\n",
    "\n",
    "            Atom.cardinality(1, 2), Atom.cardinality(2, 3), Atom.cardinality(3, 3),\n",
    "            Atom.cardinality(4, 2), Atom.cardinality(5, 2), Atom.cardinality(6, 2),\n",
    "        ],\n",
    "    )\n",
    "\n",
    "    train_dataset.add_queries([\n",
    "        Atom.predict[1],\n",
    "        Atom.predict[0],\n",
    "    ])"
   ],
   "metadata": {
    "collapsed": false,
    "pycharm": {
     "name": "#%%\n"
    }
   },
   "execution_count": 17,
   "outputs": []
  },
  {
   "cell_type": "code",
   "execution_count": 18,
   "outputs": [
    {
     "name": "stdout",
     "output_type": "stream",
     "text": [
      "Graph a is predicted to be class: 1 | 0.965618371963501\n",
      "Graph b is predicted to be class: 0 | -2.301345969587176e-19\n"
     ]
    }
   ],
   "source": [
    "neuralogic_evaluator = get_evaluator(Backend.DYNET, template)\n",
    "\n",
    "for _ in neuralogic_evaluator.train(train_dataset):\n",
    "    pass\n",
    "\n",
    "graphs = [\"a\", \"b\"]\n",
    "\n",
    "for graph_id, (label, predicted) in enumerate(neuralogic_evaluator.test(train_dataset)):\n",
    "    print(f\"Graph {graphs[graph_id]} is predicted to be class: {int(round(predicted))} | {predicted}\")"
   ],
   "metadata": {
    "collapsed": false,
    "pycharm": {
     "name": "#%%\n"
    }
   }
  },
  {
   "cell_type": "markdown",
   "source": [
    "Figure X. shows two graphs, _a_\n",
    "and _b_,\n",
    "representing a real-world structure of two molecules _Bicyclopentyl_\n",
    "and *Decalin*, respectively. The message passing GNN cannot again distinguish between\n",
    "graphs under the condition of identical features for all nodes \\cite{gnnpower}.\n",
    "In PyNeuraLogic, we can embed, for example, the cycle of length five present in\n",
    "graph _a_ and thus distinguish those instances, such as is shown in\n",
    "Example \\ref{lst:distfive}.\n",
    "\n",
    "\n",
    "#### Example 3: Capturing the cycle of the length of five"
   ],
   "metadata": {
    "collapsed": false,
    "pycharm": {
     "name": "#%% md\n"
    }
   }
  },
  {
   "cell_type": "code",
   "execution_count": 25,
   "outputs": [],
   "source": [
    "settings = Settings(optimizer=Optimizer.SGD, epochs=200)\n",
    "train_dataset = Dataset()\n",
    "\n",
    "with Template(settings).context() as template:\n",
    "    template.add_rules([\n",
    "        # Captures cycle of the length of five (Bicyclopentyl)\n",
    "        Atom.cycle_of_the_length_of_five(Var.X)[1,] <= (\n",
    "            Atom.edge(Var.X, Var.Y), Atom.feature(Var.Y)[1,],\n",
    "            Atom.edge(Var.Y, Var.Z), Atom.feature(Var.Z)[1,],\n",
    "            Atom.edge(Var.Z, Var.R), Atom.feature(Var.R)[1,],\n",
    "            Atom.edge(Var.R, Var.S), Atom.feature(Var.S)[1,],\n",
    "            Atom.edge(Var.S, Var.X), Atom.feature(Var.X)[1,],\n",
    "            Atom.special.alldiff(...),\n",
    "        ),\n",
    "\n",
    "        # Captures general graph (such as Decalin)\n",
    "        Atom.general(Var.X)[1,] <= (Atom.edge(Var.X, Var.Y), Atom.feature(Var.Y)[1,]),\n",
    "        Atom.general(Var.X)[1,] <= Atom.feature(Var.Y)[1,],\n",
    "\n",
    "        Atom.predict <= Atom.general(Var.X)[1,],\n",
    "        Atom.predict <= Atom.cycle_of_the_length_of_five(Var.X)[1,],\n",
    "    ])\n",
    "\n",
    "    # Encoding of graph Bicyclopentyl\n",
    "    train_dataset.add_example(\n",
    "        [\n",
    "            Atom.edge(1, 2), Atom.edge(2, 3), Atom.edge(3, 4), Atom.edge(4, 5), Atom.edge(5, 1), Atom.edge(1, 6),\n",
    "            Atom.edge(2, 1), Atom.edge(3, 2), Atom.edge(4, 3), Atom.edge(5, 4), Atom.edge(1, 5), Atom.edge(6, 1),\n",
    "            Atom.edge(6, 7), Atom.edge(7, 8), Atom.edge(8, 9), Atom.edge(9, 10), Atom.edge(10, 6),\n",
    "            Atom.edge(7, 6), Atom.edge(8, 7), Atom.edge(9, 8), Atom.edge(10, 9), Atom.edge(6, 10),\n",
    "\n",
    "            Atom.feature(1), Atom.feature(2), Atom.feature(3), Atom.feature(4), Atom.feature(5),\n",
    "            Atom.feature(6), Atom.feature(7), Atom.feature(8), Atom.feature(9), Atom.feature(10),\n",
    "        ],\n",
    "    )\n",
    "\n",
    "    # Encoding of graph Decalin\n",
    "    train_dataset.add_example(\n",
    "        [\n",
    "            Atom.edge(1, 2), Atom.edge(2, 3), Atom.edge(3, 4), Atom.edge(4, 5), Atom.edge(5, 6), Atom.edge(1, 6),\n",
    "            Atom.edge(2, 1), Atom.edge(3, 2), Atom.edge(4, 3), Atom.edge(5, 4), Atom.edge(6, 5), Atom.edge(6, 1),\n",
    "            Atom.edge(6, 7), Atom.edge(7, 8), Atom.edge(8, 9), Atom.edge(9, 10), Atom.edge(10, 1),\n",
    "            Atom.edge(7, 6), Atom.edge(8, 7), Atom.edge(9, 8), Atom.edge(10, 9), Atom.edge(1, 10),\n",
    "\n",
    "            Atom.feature(1), Atom.feature(2), Atom.feature(3), Atom.feature(4), Atom.feature(5),\n",
    "            Atom.feature(6), Atom.feature(7), Atom.feature(8), Atom.feature(9), Atom.feature(10),\n",
    "        ],\n",
    "    )\n",
    "\n",
    "    train_dataset.add_queries([\n",
    "        Atom.predict[1],\n",
    "        Atom.predict[0],\n",
    "    ])"
   ],
   "metadata": {
    "collapsed": false,
    "pycharm": {
     "name": "#%%\n"
    }
   }
  },
  {
   "cell_type": "code",
   "execution_count": 27,
   "outputs": [
    {
     "name": "stdout",
     "output_type": "stream",
     "text": [
      "Graph Bicyclopentyl is predicted to be class: 1 | 0.9578434228897095\n",
      "Graph Decalin is predicted to be class: 0 | 0.04274271801114082\n"
     ]
    }
   ],
   "source": [
    "neuralogic_evaluator = get_evaluator(Backend.DYNET, template)\n",
    "\n",
    "for _ in neuralogic_evaluator.train(train_dataset):\n",
    "    pass\n",
    "\n",
    "graphs = [\"Bicyclopentyl\", \"Decalin\"]\n",
    "\n",
    "for graph_id, (label, predicted) in enumerate(neuralogic_evaluator.test(train_dataset)):\n",
    "    print(f\"Graph {graphs[graph_id]} is predicted to be class: {int(round(predicted))} | {predicted}\")\n"
   ],
   "metadata": {
    "collapsed": false,
    "pycharm": {
     "name": "#%%\n"
    }
   }
  }
 ],
 "metadata": {
  "kernelspec": {
   "display_name": "Python 3",
   "language": "python",
   "name": "python3"
  },
  "language_info": {
   "codemirror_mode": {
    "name": "ipython",
    "version": 2
   },
   "file_extension": ".py",
   "mimetype": "text/x-python",
   "name": "python",
   "nbconvert_exporter": "python",
   "pygments_lexer": "ipython2",
   "version": "2.7.6"
  }
 },
 "nbformat": 4,
 "nbformat_minor": 0
}
