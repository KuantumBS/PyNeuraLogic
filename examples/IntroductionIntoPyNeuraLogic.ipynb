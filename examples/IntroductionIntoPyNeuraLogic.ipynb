{
 "cells": [
  {
   "cell_type": "markdown",
   "metadata": {
    "collapsed": true,
    "pycharm": {
     "name": "#%% md\n"
    }
   },
   "source": [
    "# Introduction into PyNeuraLogic\n",
    "\n",
    "Learning the XOR operation is a popular elementary task, and serves here as an example to showcase the basics of simple problem encoding and the library usage.\n",
    "\n",
    "The XOR operation has two inputs - $X \\in \\{0, 1\\}$ and $Y \\in \\{0, 1\\}$, and one output $O \\in \\{0, 1\\}$. The whole operation can be summarized by a table\n",
    "\n",
    "| X | Y | O |\n",
    "|---|---|---|\n",
    "| 0 | 0 | 0 |\n",
    "| 1 | 0 | 1 |\n",
    "| 0 | 1 | 1 |\n",
    "| 1 | 1 | 0 |"
   ]
  },
  {
   "cell_type": "markdown",
   "source": [
    "\\* This classic tabular form of the learning problem suggests that it is merely *propositional* (~ single table) rather than [*relational*](https://link.springer.com/referenceworkentry/10.1007%2F978-0-387-30164-8_719) (~ multible interlinked tables), which is the main aim of this library.\n",
    "This will be reflected in the fact that we will not yet use *logical variables* in this example, causing the learning model to correspond to a standard feedforward network rather than a deep relational model, which is the core feature of this library.\n",
    "Nevertheless, let us start simple for clarity here."
   ],
   "metadata": {
    "collapsed": false,
    "pycharm": {
     "name": "#%% md\n"
    }
   }
  },
  {
   "cell_type": "markdown",
   "metadata": {},
   "source": [
    "Install PyNeuraLogic from PyPI"
   ]
  },
  {
   "cell_type": "code",
   "execution_count": 1,
   "metadata": {
    "pycharm": {
     "name": "#%%\n"
    }
   },
   "outputs": [
    {
     "name": "stdout",
     "output_type": "stream",
     "text": [
      "Collecting neuralogic\n",
      "  Downloading neuralogic-0.2.0-py3-none-any.whl (1.9 MB)\n",
      "     ---------------------------------------- 1.9/1.9 MB 30.2 MB/s eta 0:00:00\n",
      "Requirement already satisfied: numpy>=1.19.0 in c:\\users\\gusta\\pycharmprojects\\pyneuralogic\\venv\\lib\\site-packages (from neuralogic) (1.20.3)\n",
      "Requirement already satisfied: JPype1>=1.3.0 in c:\\users\\gusta\\pycharmprojects\\pyneuralogic\\venv\\lib\\site-packages (from neuralogic) (1.3.0)\n",
      "Installing collected packages: neuralogic\n",
      "Successfully installed neuralogic-0.2.0\n"
     ]
    }
   ],
   "source": [
    "! pip install neuralogic"
   ]
  },
  {
   "cell_type": "markdown",
   "source": [
    "...and import some basic functionality"
   ],
   "metadata": {
    "collapsed": false,
    "pycharm": {
     "name": "#%% md\n"
    }
   }
  },
  {
   "cell_type": "code",
   "execution_count": 6,
   "outputs": [],
   "source": [
    "from neuralogic.nn import get_evaluator\n",
    "from neuralogic.core import Backend, Relation, Template, Settings, Optimizer\n",
    "from neuralogic.dataset import Dataset"
   ],
   "metadata": {
    "collapsed": false,
    "pycharm": {
     "name": "#%%\n"
    }
   }
  },
  {
   "cell_type": "markdown",
   "metadata": {
    "pycharm": {
     "name": "#%% md\n"
    }
   },
   "source": [
    "## Template\n",
    "\n",
    "We start by defining a learning model, generally called \"template\" in PyNeuraLogic. In this simple propositional example, you can think of these interchangeably.\n",
    "\n",
    "The template for learning the XOR operation can be expressed in multiple ways; the following model reduces the architecture to one rule, representing one classic neural layer.\n",
    "\n",
    "The rule can be read as: _\"relation xor is implied by relation xy.\"_\n",
    "\n",
    "\\* the nullary \"relation\" with no arguments is commonly called a \"proposition\" or \"fact\" in logic."
   ]
  },
  {
   "cell_type": "code",
   "execution_count": 4,
   "metadata": {
    "pycharm": {
     "name": "#%%\n"
    }
   },
   "outputs": [],
   "source": [
    "template = Template()\n",
    "template += Relation.xor[1, 8] <= Relation.xy[8, 2]"
   ]
  },
  {
   "cell_type": "markdown",
   "source": [
    "Note that we further specified the dimensionality of parameters associated with both the relations - $W_{xor}$ = [1,8] for relation \"xor\" and $W_{xy}$ = [8, 2] for relation \"xy\"\n",
    "\\(not to be confused with arguments of the relations, e.g. logical variables, which are not present here).\n",
    "\n",
    "These parameters will translate into our (fully-connected) layers in the neural model, and will be initialized randomly from, by default, a uniform distribution (can be changed via Settings)"
   ],
   "metadata": {
    "collapsed": false,
    "pycharm": {
     "name": "#%% md\n"
    }
   }
  },
  {
   "cell_type": "code",
   "execution_count": 5,
   "outputs": [
    {
     "data": {
      "image/png": "[encoded data removed]",
      "text/plain": "<IPython.core.display.Image object>"
     },
     "execution_count": 5,
     "metadata": {},
     "output_type": "execute_result"
    }
   ],
   "source": [
    "template.draw()"
   ],
   "metadata": {
    "collapsed": false,
    "pycharm": {
     "name": "#%%\n"
    }
   }
  },
  {
   "cell_type": "markdown",
   "metadata": {},
   "source": [
    "<!--- We also declared dimensionality of the weights for each part - $W_{xor}$ for relation \"xor\" and $W_{xy}$ for relation \"xy\".\n",
    "-->\n",
    "\n",
    "Let us take a closer look at what the template's rule represents here.\n",
    "Once translated into a neural model, the xor rule corresponds to the following equation, where the output of $f(x)$ is the output of the \"xor\" relation and $x$ is the value of the \"xy\" relation.\n",
    "Functions $\\phi_{rule}$ and $\\phi_{xor}$ are activation functions of our rule and the relation \"xor\", respectively.\n",
    "By default, both $\\phi_{rule}$ and $\\phi_{xor}$ are equal to the $\\tanh$ function.\n",
    "\n",
    "$$W_{xor} \\in \\mathbb{R}^{1, 8}, W_{xy} \\in \\mathbb{R}^{8, 2}, x \\in \\{0,1\\}^2$$\n",
    "\n",
    "$$f(x) = \\phi_{xor}(W_{xor} \\cdot \\phi_{rule}(W_{xy} \\cdot x)) $$\n",
    "\n",
    "Hence, this is a classic 2-layer fully-connected neural network, with a hidden layer of size 8 and a single output.\n",
    "\n",
    "\n",
    "## Defining a Dataset\n",
    "\n",
    "To be able to learn our parameters $W_{xor}$\n",
    "and $W_{xy}$, we need to create a training dataset\n",
    "that contains examples. In our case, the dataset\n",
    "examples correspond directly to the rows of the XOR truth table."
   ]
  },
  {
   "cell_type": "code",
   "execution_count": 3,
   "metadata": {
    "pycharm": {
     "name": "#%%\n"
    }
   },
   "outputs": [],
   "source": [
    "dataset = Dataset()\n",
    "\n",
    "\n",
    "dataset.add_examples(\n",
    "    [\n",
    "        Relation.xor[0] <= Relation.xy[[0, 0]],\n",
    "        Relation.xor[1] <= Relation.xy[[0, 1]],\n",
    "        Relation.xor[1] <= Relation.xy[[1, 0]],\n",
    "        Relation.xor[0] <= Relation.xy[[1, 1]],\n",
    "    ]\n",
    ")"
   ]
  },
  {
   "cell_type": "markdown",
   "metadata": {},
   "source": [
    "For example, the following example can be read as: _\"Given the relation xy's value equal to the vector $(0, 1)$, we expect the relation xor to be equal to a scalar $1$.\"_\n",
    "\n",
    "```\n",
    "Relation.xor[1] <= Relation.xy[[0, 1]]\n",
    "```\n",
    "\n",
    "\\*Note that while defining datasets, the numbers associated with each relation are interpreted as an actual value and not (a learnable) weight.\n",
    "\n",
    "## Training\n",
    "\n",
    "The training then does not differ much from classic deep learning frameworks, e.g. PyTorch.\n",
    "We can do the training manually by writing a training loop, similarly to popular frameworks,  or using a predefined training loop implemented inside evaluators, which are suitable for quick prototyping and switching between different backends, such as DyNet or Java. Such evaluators can be conveniently customized via settings to specify optimizer, learning rate, error function, and more. In our example, we have chosen the Java backend with a stochastic gradient descent optimizer for training."
   ]
  },
  {
   "cell_type": "code",
   "execution_count": 4,
   "metadata": {
    "pycharm": {
     "name": "#%%\n"
    }
   },
   "outputs": [
    {
     "name": "stdout",
     "output_type": "stream",
     "text": [
      "Epoch 0, average loss 0.8486421179926945\n",
      "Epoch 10, average loss 0.2523365313646398\n",
      "Epoch 20, average loss 0.22581171403149267\n",
      "Epoch 30, average loss 0.20155291380951051\n",
      "Epoch 40, average loss 0.16632702588300935\n",
      "Epoch 50, average loss 0.12272502214289742\n",
      "Epoch 60, average loss 0.08378590695186636\n",
      "Epoch 70, average loss 0.05659655622355965\n",
      "Epoch 80, average loss 0.03952319346092247\n",
      "Epoch 90, average loss 0.028906304842870375\n"
     ]
    }
   ],
   "source": [
    "printouts = 10\n",
    "\n",
    "settings = Settings(optimizer=Optimizer.SGD, epochs=100)\n",
    "evaluator = get_evaluator(template, settings)\n",
    "built_dataset = evaluator.build_dataset(dataset)\n",
    "\n",
    "for epoch, (total_loss, seen_instances) in \\\n",
    "    enumerate(evaluator.train(built_dataset)):\n",
    "    if epoch % printouts == 0:\n",
    "        print(f\"Epoch {epoch}, average loss {total_loss / seen_instances}\")"
   ]
  },
  {
   "cell_type": "markdown",
   "metadata": {},
   "source": [
    "Before the training is evaluated, our dataset is \"grounded\" with our template. The grounding then yields one computation graph for each query from the dataset. In this propositional problem setting, this will produce, for each query, a computation network with the same structure but with different input and target values.\n",
    "\n",
    "## Testing\n",
    "Evaluators also encapsulate testing with a user-friendly interface that is analogous to training."
   ]
  },
  {
   "cell_type": "code",
   "execution_count": 5,
   "metadata": {
    "pycharm": {
     "name": "#%%\n"
    }
   },
   "outputs": [
    {
     "name": "stdout",
     "output_type": "stream",
     "text": [
      "Label: 0, predicted: 0\n",
      "Label: 1, predicted: 0.7998393002473414\n",
      "Label: 1, predicted: 0.7991515636502554\n",
      "Label: 0, predicted: 0.0324124386538237\n"
     ]
    }
   ],
   "source": [
    "for label, predicted in evaluator.test(built_dataset):\n",
    "    print(f\"Label: {label}, predicted: {predicted}\")\n"
   ]
  }
 ],
 "metadata": {
  "kernelspec": {
   "display_name": "Python 3 (ipykernel)",
   "language": "python",
   "name": "python3"
  },
  "language_info": {
   "codemirror_mode": {
    "name": "ipython",
    "version": 3
   },
   "file_extension": ".py",
   "mimetype": "text/x-python",
   "name": "python",
   "nbconvert_exporter": "python",
   "pygments_lexer": "ipython3",
   "version": "3.9.7"
  }
 },
 "nbformat": 4,
 "nbformat_minor": 1
}
