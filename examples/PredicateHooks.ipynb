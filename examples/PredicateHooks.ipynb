{
 "cells": [
  {
   "cell_type": "markdown",
   "metadata": {
    "collapsed": true
   },
   "source": [
    "# NeuraLogic Hooks"
   ]
  },
  {
   "cell_type": "code",
   "execution_count": 1,
   "metadata": {},
   "outputs": [],
   "source": [
    "import numpy as np\n",
    "\n",
    "from neuralogic.core import Template, Backend, Atom, Var\n",
    "from neuralogic.core.constructs.predicate import Predicate\n",
    "from neuralogic.utils.data import Data, Dataset\n",
    "from neuralogic.core.settings import Settings, ErrorFunction, Optimizer\n",
    "from neuralogic.nn import get_evaluator\n",
    "\n",
    "from IPython.display import clear_output\n",
    "import matplotlib.pyplot as plt"
   ]
  },
  {
   "cell_type": "markdown",
   "metadata": {},
   "source": [
    "## Data preparation"
   ]
  },
  {
   "cell_type": "code",
   "execution_count": 2,
   "metadata": {},
   "outputs": [],
   "source": [
    "src = np.array([\n",
    "    1, 2, 2, 3, 3, 3, 4, 5, 6, 6, 6, 7, 7, 7, 7, 8, 8, 9, 10, 10, 10, 11,\n",
    "    12, 12, 13, 13, 13, 13, 16, 16, 17, 17, 19, 19, 21, 21, 25, 25, 27, 27,\n",
    "    27, 28, 29, 29, 30, 30, 31, 31, 31, 31, 32, 32, 32, 32, 32, 32, 32, 32, 32,\n",
    "    32, 32, 33, 33, 33, 33, 33, 33, 33, 33, 33, 33, 33, 33, 33, 33, 33, 33, 33\n",
    "])\n",
    "\n",
    "dst = np.array([\n",
    "    0, 0, 1, 0, 1, 2, 0, 0, 0, 4, 5, 0, 1, 2, 3, 0, 2, 2, 0, 4, 5,\n",
    "    0, 0, 3, 0, 1, 2, 3, 5, 6, 0, 1, 0, 1, 0, 1, 23, 24, 2, 23, 24, 2,\n",
    "    23, 26, 1, 8, 0, 24, 25, 28, 2, 8, 14, 15, 18, 20, 22, 23, 29, 30,\n",
    "    31, 8, 9, 13, 14, 15, 18, 19, 20, 22, 23, 26, 27, 28, 29, 30, 31, 32\n",
    "])\n",
    "\n",
    "u = np.concatenate([src, dst])\n",
    "v = np.concatenate([dst, src])\n",
    "indices = [[i] for i in range(34)]\n",
    "\n",
    "train_dataset = Dataset(data=[Data(x=np.ones((34,)), edge_index=[u, v], y=[[-1], [1]], y_mask=[[0], [33]])])\n",
    "test_dataset = Dataset(data=[Data(x=np.ones((34,)), edge_index=[u, v], y=indices, y_mask=indices)])"
   ]
  },
  {
   "cell_type": "code",
   "execution_count": 3,
   "metadata": {},
   "outputs": [],
   "source": [
    "settings = Settings(epochs=2, error_function=ErrorFunction.SQUARED_DIFF, optimizer=Optimizer.SGD)"
   ]
  },
  {
   "cell_type": "markdown",
   "metadata": {},
   "source": [
    "## Model preparation"
   ]
  },
  {
   "cell_type": "code",
   "execution_count": 4,
   "metadata": {
    "scrolled": false
   },
   "outputs": [
    {
     "name": "stdout",
     "output_type": "stream",
     "text": [
      "{10, 1} node_feature_embed(0) :- node_feature(0).\n",
      "{10, 1} node_feature_embed(1) :- node_feature(1).\n",
      "{10, 1} node_feature_embed(2) :- node_feature(2).\n",
      "{10, 1} node_feature_embed(3) :- node_feature(3).\n",
      "{10, 1} node_feature_embed(4) :- node_feature(4).\n",
      "{10, 1} node_feature_embed(5) :- node_feature(5).\n",
      "{10, 1} node_feature_embed(6) :- node_feature(6).\n",
      "{10, 1} node_feature_embed(7) :- node_feature(7).\n",
      "{10, 1} node_feature_embed(8) :- node_feature(8).\n",
      "{10, 1} node_feature_embed(9) :- node_feature(9).\n",
      "{10, 1} node_feature_embed(10) :- node_feature(10).\n",
      "{10, 1} node_feature_embed(11) :- node_feature(11).\n",
      "{10, 1} node_feature_embed(12) :- node_feature(12).\n",
      "{10, 1} node_feature_embed(13) :- node_feature(13).\n",
      "{10, 1} node_feature_embed(14) :- node_feature(14).\n",
      "{10, 1} node_feature_embed(15) :- node_feature(15).\n",
      "{10, 1} node_feature_embed(16) :- node_feature(16).\n",
      "{10, 1} node_feature_embed(17) :- node_feature(17).\n",
      "{10, 1} node_feature_embed(18) :- node_feature(18).\n",
      "{10, 1} node_feature_embed(19) :- node_feature(19).\n",
      "{10, 1} node_feature_embed(20) :- node_feature(20).\n",
      "{10, 1} node_feature_embed(21) :- node_feature(21).\n",
      "{10, 1} node_feature_embed(22) :- node_feature(22).\n",
      "{10, 1} node_feature_embed(23) :- node_feature(23).\n",
      "{10, 1} node_feature_embed(24) :- node_feature(24).\n",
      "{10, 1} node_feature_embed(25) :- node_feature(25).\n",
      "{10, 1} node_feature_embed(26) :- node_feature(26).\n",
      "{10, 1} node_feature_embed(27) :- node_feature(27).\n",
      "{10, 1} node_feature_embed(28) :- node_feature(28).\n",
      "{10, 1} node_feature_embed(29) :- node_feature(29).\n",
      "{10, 1} node_feature_embed(30) :- node_feature(30).\n",
      "{10, 1} node_feature_embed(31) :- node_feature(31).\n",
      "{10, 10} gcn_1(X) :- node_feature_embed(Y), edge(X, Y).\n",
      "{10, 10} gcn_2(X) :- gcn_1(Y), edge(X, Y).\n",
      "[array([1., 1., 1., 1., 1., 1., 1., 1., 1., 1.])] predict(X) :- gcn_2(X).\n"
     ]
    }
   ],
   "source": [
    "template = Template(settings=settings)\n",
    "\n",
    "with template.context():\n",
    "    template.add_rules([(Atom.node_feature_embed(i)[10, 1] <= Atom.node_feature(i)) for i in range(32)])\n",
    "\n",
    "    template.add_rule(Atom.gcn_1(Var.X)[10, 10] <= (Atom.node_feature_embed(Var.Y), Atom.edge(Var.X, Var.Y)))\n",
    "    template.add_rule(Atom.gcn_2(Var.X)[10, 10] <= (Atom.gcn_1(Var.Y), Atom.edge(Var.X, Var.Y)))\n",
    "    template.add_rule(Atom.predict(Var.X)[np.ones((1, 10))] <= (Atom.gcn_2(Var.X)))\n",
    "\n",
    "print(template)"
   ]
  },
  {
   "cell_type": "code",
   "execution_count": 5,
   "metadata": {},
   "outputs": [],
   "source": [
    "evaluator = get_evaluator(Backend.DYNET, template, settings)"
   ]
  },
  {
   "cell_type": "markdown",
   "metadata": {},
   "source": [
    "There are no hooks set up - training/testing will work with no side effects"
   ]
  },
  {
   "cell_type": "code",
   "execution_count": 6,
   "metadata": {},
   "outputs": [],
   "source": [
    "for _ in evaluator.train(train_dataset):\n",
    "    pass"
   ]
  },
  {
   "cell_type": "markdown",
   "metadata": {},
   "source": [
    "## Adding hooks"
   ]
  },
  {
   "cell_type": "markdown",
   "metadata": {},
   "source": [
    "### Hooks declaration\n",
    "\n",
    "Hooks are normal python functions with two parameters - `name` and `value`. `name` is the triggering name - which neuron triggered the hook, and the `value` corresponds to the output of the neuron that triggered the hook."
   ]
  },
  {
   "cell_type": "code",
   "execution_count": 7,
   "metadata": {},
   "outputs": [],
   "source": [
    "def my_gcn2_term_zero_hook(value):\n",
    "    print(\"First hook: gcn_2(0) has value\", value)\n",
    "\n",
    "\n",
    "def my_gcn2_another_term_zero_hook(value):\n",
    "    print(\"Second hook: gcn_2(0) has value\", value)\n",
    "\n",
    "    \n",
    "def my_gcn1_hook(value):\n",
    "    print(\"gcn_1(12) value: \", value)"
   ]
  },
  {
   "cell_type": "markdown",
   "metadata": {},
   "source": [
    "### Attaching hooks"
   ]
  },
  {
   "cell_type": "markdown",
   "metadata": {},
   "source": [
    "Hooks can be attached and detached to an atom in a template in multiple ways. All following ways are valid and will have the same result."
   ]
  },
  {
   "cell_type": "code",
   "execution_count": 8,
   "metadata": {},
   "outputs": [],
   "source": [
    "template.add_hook(\"gcn_2(0)\", my_gcn2_term_zero_hook)"
   ]
  },
  {
   "cell_type": "code",
   "execution_count": 9,
   "metadata": {},
   "outputs": [],
   "source": [
    "with template.context():\n",
    "    template.add_hook(Atom.gcn_2(0), my_gcn2_term_zero_hook)"
   ]
  },
  {
   "cell_type": "markdown",
   "metadata": {},
   "source": [
    "Detaching hooks on a predicate can be done similarly to attaching. #todo gusta: nezapomenout ze hooks jsou na Atom Values a ne na predikatech.."
   ]
  },
  {
   "cell_type": "code",
   "execution_count": 10,
   "metadata": {},
   "outputs": [],
   "source": [
    "template.remove_hook(\"gcn_2(0)\", my_gcn2_term_zero_hook)"
   ]
  },
  {
   "cell_type": "code",
   "execution_count": 11,
   "metadata": {},
   "outputs": [],
   "source": [
    "with template.context():\n",
    "    template.remove_hook(Atom.gcn_2(0), my_gcn2_term_zero_hook)"
   ]
  },
  {
   "cell_type": "markdown",
   "metadata": {},
   "source": [
    "### Example\n",
    "\n",
    "Attach our hooks:"
   ]
  },
  {
   "cell_type": "code",
   "execution_count": 12,
   "metadata": {},
   "outputs": [],
   "source": [
    "with template.context():\n",
    "    template.add_hook(Atom.gcn_2(0), my_gcn2_term_zero_hook)\n",
    "    template.add_hook(Atom.gcn_2(0), my_gcn2_another_term_zero_hook)  # We can add multiple hooks to one predicate\n",
    "    template.add_hook(Atom.gcn_1(12), my_gcn1_hook)"
   ]
  },
  {
   "cell_type": "markdown",
   "metadata": {},
   "source": [
    "Forward propagation will now trigger hooks when the value for the hooked atom is being calculated"
   ]
  },
  {
   "cell_type": "code",
   "execution_count": 13,
   "metadata": {},
   "outputs": [
    {
     "name": "stdout",
     "output_type": "stream",
     "text": [
      "gcn_1(12) value:  [[ 0.99986804]\n",
      " [-0.99137968]\n",
      " [ 0.99977267]\n",
      " [ 0.97824639]\n",
      " [ 0.94372642]\n",
      " [ 0.97161543]\n",
      " [ 0.74050266]\n",
      " [-0.99861491]\n",
      " [-0.99906945]\n",
      " [ 0.97333276]]\n",
      "Second hook: gcn_2(0) has value [[-0.94310737]\n",
      " [ 0.78011346]\n",
      " [ 0.98503864]\n",
      " [ 0.77294445]\n",
      " [ 0.03020673]\n",
      " [-0.99886733]\n",
      " [ 0.84411156]\n",
      " [-0.99038839]\n",
      " [-0.38156265]\n",
      " [ 0.33045164]]\n",
      "First hook: gcn_2(0) has value [[-0.94310737]\n",
      " [ 0.78011346]\n",
      " [ 0.98503864]\n",
      " [ 0.77294445]\n",
      " [ 0.03020673]\n",
      " [-0.99886733]\n",
      " [ 0.84411156]\n",
      " [-0.99038839]\n",
      " [-0.38156265]\n",
      " [ 0.33045164]]\n",
      "\n",
      "Epoch trained\n",
      "\n",
      "gcn_1(12) value:  [[ 0.99986738]\n",
      " [-0.9914456 ]\n",
      " [ 0.99977183]\n",
      " [ 0.97867525]\n",
      " [ 0.94476688]\n",
      " [ 0.97059548]\n",
      " [ 0.70277995]\n",
      " [-0.99861872]\n",
      " [-0.99907142]\n",
      " [ 0.97341728]]\n",
      "Second hook: gcn_2(0) has value [[-0.94293958]\n",
      " [ 0.72878975]\n",
      " [ 0.98457074]\n",
      " [ 0.75176394]\n",
      " [-0.67091423]\n",
      " [-0.99883342]\n",
      " [ 0.79175097]\n",
      " [-0.99013102]\n",
      " [-0.78106701]\n",
      " [ 0.37567022]]\n",
      "First hook: gcn_2(0) has value [[-0.94293958]\n",
      " [ 0.72878975]\n",
      " [ 0.98457074]\n",
      " [ 0.75176394]\n",
      " [-0.67091423]\n",
      " [-0.99883342]\n",
      " [ 0.79175097]\n",
      " [-0.99013102]\n",
      " [-0.78106701]\n",
      " [ 0.37567022]]\n",
      "\n",
      "Epoch trained\n",
      "\n"
     ]
    }
   ],
   "source": [
    "for _ in evaluator.train(train_dataset):\n",
    "    print(\"\\nEpoch trained\\n\")"
   ]
  }
 ],
 "metadata": {
  "kernelspec": {
   "display_name": "Python 3",
   "language": "python",
   "name": "python3"
  },
  "language_info": {
   "codemirror_mode": {
    "name": "ipython",
    "version": 3
   },
   "file_extension": ".py",
   "mimetype": "text/x-python",
   "name": "python",
   "nbconvert_exporter": "python",
   "pygments_lexer": "ipython3",
   "version": "3.8.5"
  },
  "pycharm": {
   "stem_cell": {
    "cell_type": "raw",
    "source": [],
    "metadata": {
     "collapsed": false
    }
   }
  }
 },
 "nbformat": 4,
 "nbformat_minor": 1
}
