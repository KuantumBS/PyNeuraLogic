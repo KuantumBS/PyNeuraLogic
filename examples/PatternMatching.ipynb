{
 "cells": [
  {
   "cell_type": "markdown",
   "source": [
    "# Pattern Matching\n",
    "\n",
    "One of the substantial extensions of vanilla Graph Neural Networks\n",
    "introduced by the PyNeuraLogic library is capturing underlying graph\n",
    "patterns. We can, for instance, recognize nodes that are parts of cycles,\n",
    "such as cycles of the length of three - triangles,\n",
    "presented in Example [1](#Example-1:-Capturing-the-pattern-of-triangles)."
   ],
   "metadata": {
    "collapsed": false
   }
  },
  {
   "cell_type": "markdown",
   "source": [
    "Install PyNeuraLogic and DyNet from PyPI"
   ],
   "metadata": {
    "collapsed": false
   }
  },
  {
   "cell_type": "code",
   "execution_count": null,
   "outputs": [],
   "source": [
    "! pip install neuralogic"
   ],
   "metadata": {
    "collapsed": false,
    "pycharm": {
     "name": "#%%\n"
    }
   }
  },
  {
   "cell_type": "code",
   "execution_count": null,
   "outputs": [],
   "source": [
    "! pip install dynet"
   ],
   "metadata": {
    "collapsed": false,
    "pycharm": {
     "name": "#%%\n"
    }
   }
  },
  {
   "cell_type": "code",
   "source": [
    "from neuralogic.nn import get_evaluator\n",
    "from neuralogic.core import Backend\n",
    "from neuralogic.core import Relation, Template, Var, Term\n",
    "from neuralogic.core.settings import Settings, Optimizer\n",
    "from neuralogic.utils.data import Dataset"
   ],
   "metadata": {
    "collapsed": false,
    "pycharm": {
     "name": "#%%\n"
    }
   },
   "execution_count": 1,
   "outputs": []
  },
  {
   "cell_type": "markdown",
   "source": [
    "#### Example 1: Capturing the pattern of triangles\n"
   ],
   "metadata": {
    "collapsed": false
   }
  },
  {
   "cell_type": "code",
   "execution_count": 2,
   "outputs": [],
   "source": [
    "train_dataset = Dataset()\n",
    "\n",
    "template = Template()\n",
    "template.add_rules([\n",
    "    # Captures triangle\n",
    "    Relation.triangle(Var.X)[1,] <= (\n",
    "        Relation.edge(Var.X, Var.Y), Relation.feature(Var.Y)[1,],\n",
    "        Relation.edge(Var.Y, Var.Z), Relation.feature(Var.Z)[1,],\n",
    "        Relation.edge(Var.Z, Var.X), Relation.feature(Var.X)[1,],\n",
    "    ),\n",
    "\n",
    "    # Captures general graph\n",
    "    Relation.general(Var.X)[1,] <= (Relation.edge(Var.X, Var.Y), Relation.feature(Var.Y)[1,]),\n",
    "    Relation.general(Var.X)[1,] <= Relation.feature(Var.Y)[1,],\n",
    "\n",
    "    Relation.predict(Var.X) <= Relation.general(Var.X)[1,],\n",
    "    Relation.predict(Var.X) <= Relation.triangle(Var.X)[1,],\n",
    "])\n",
    "\n",
    "train_dataset.add_example(\n",
    "    [\n",
    "        # Encoded graph:      6--4--1---2\n",
    "        #                        |   \\ /\n",
    "        #                        5    3\n",
    "\n",
    "        Relation.edge(1, 2), Relation.edge(2, 3), Relation.edge(3, 1),\n",
    "        Relation.edge(2, 1), Relation.edge(3, 2), Relation.edge(1, 3),\n",
    "        Relation.edge(1, 4), Relation.edge(4, 5), Relation.edge(4, 6),\n",
    "        Relation.edge(4, 1), Relation.edge(5, 4), Relation.edge(6, 4),\n",
    "\n",
    "        Relation.feature(1), Relation.feature(2), Relation.feature(3),\n",
    "        Relation.feature(4), Relation.feature(5), Relation.feature(6),\n",
    "    ],\n",
    ")\n",
    "\n",
    "train_dataset.add_queries([\n",
    "    Relation.predict(1)[1],\n",
    "    Relation.predict(2)[1],\n",
    "    Relation.predict(3)[1],\n",
    "    Relation.predict(4)[0],\n",
    "    Relation.predict(5)[0],\n",
    "    Relation.predict(6)[0],\n",
    "])"
   ],
   "metadata": {
    "collapsed": false,
    "pycharm": {
     "name": "#%%\n"
    }
   }
  },
  {
   "cell_type": "code",
   "execution_count": 3,
   "outputs": [
    {
     "name": "stderr",
     "output_type": "stream",
     "text": [
      "[dynet] random seed: 1804914989\n",
      "[dynet] allocating memory: 512MB\n",
      "[dynet] memory allocation done.\n"
     ]
    },
    {
     "name": "stdout",
     "output_type": "stream",
     "text": [
      "Node 1 is predicted to be in a triangle: True  | 0.9789628982543945\n",
      "Node 2 is predicted to be in a triangle: True  | 0.9789628982543945\n",
      "Node 3 is predicted to be in a triangle: True  | 0.9789628982543945\n",
      "Node 4 is predicted to be in a triangle: False  | 0.023499129340052605\n",
      "Node 5 is predicted to be in a triangle: False  | 0.023499129340052605\n",
      "Node 6 is predicted to be in a triangle: False  | 0.023499129340052605\n"
     ]
    }
   ],
   "source": [
    "settings = Settings(optimizer=Optimizer.SGD, epochs=200)\n",
    "neuralogic_evaluator = get_evaluator(template, Backend.DYNET, settings)\n",
    "\n",
    "for _ in neuralogic_evaluator.train(train_dataset):\n",
    "    pass\n",
    "\n",
    "for node, (label, predicted) in enumerate(neuralogic_evaluator.test(train_dataset)):\n",
    "    print(f\"Node {node + 1} is predicted to be in a triangle: {bool(int(round(predicted)))}  | {predicted}\")"
   ],
   "metadata": {
    "collapsed": false,
    "pycharm": {
     "name": "#%%\n"
    }
   }
  },
  {
   "cell_type": "code",
   "execution_count": 4,
   "outputs": [],
   "source": [
    "test_dataset = Dataset()\n",
    "\n",
    "\n",
    "test_dataset.add_example(\n",
    "    [\n",
    "        # Encoded graph:      6--4--1---2--8\n",
    "        #                      \\ |   \\ /\n",
    "        #                       5     3--7\n",
    "\n",
    "        Relation.edge(1, 2), Relation.edge(2, 3), Relation.edge(3, 1),\n",
    "        Relation.edge(2, 1), Relation.edge(3, 2), Relation.edge(1, 3),\n",
    "        Relation.edge(1, 4), Relation.edge(4, 5), Relation.edge(4, 6),\n",
    "        Relation.edge(4, 1), Relation.edge(5, 4), Relation.edge(6, 4),\n",
    "        Relation.edge(2, 8), Relation.edge(3, 7), Relation.edge(6, 5),\n",
    "        Relation.edge(8, 2), Relation.edge(7, 3), Relation.edge(5, 6),\n",
    "\n",
    "        Relation.feature(1), Relation.feature(2), Relation.feature(3),\n",
    "        Relation.feature(4), Relation.feature(5), Relation.feature(6),\n",
    "        Relation.faeture(7), Relation.faature(8),\n",
    "    ],\n",
    ")\n",
    "\n",
    "test_dataset.add_queries([\n",
    "    Relation.predict(1)[0],\n",
    "    Relation.predict(2)[0],\n",
    "    Relation.predict(3)[0],\n",
    "    Relation.predict(4)[0],\n",
    "    Relation.predict(5)[0],\n",
    "    Relation.predict(6)[0],\n",
    "    Relation.predict(7)[0],\n",
    "    Relation.predict(8)[0],\n",
    "])"
   ],
   "metadata": {
    "collapsed": false,
    "pycharm": {
     "name": "#%%\n"
    }
   }
  },
  {
   "cell_type": "code",
   "execution_count": 5,
   "outputs": [
    {
     "name": "stdout",
     "output_type": "stream",
     "text": [
      "Node 1 is predicted to be in a triangle: True  | 0.9789628982543945\n",
      "Node 2 is predicted to be in a triangle: True  | 0.9789628982543945\n",
      "Node 3 is predicted to be in a triangle: True  | 0.9789628982543945\n",
      "Node 4 is predicted to be in a triangle: True  | 0.9789628982543945\n",
      "Node 5 is predicted to be in a triangle: True  | 0.9789628982543945\n",
      "Node 6 is predicted to be in a triangle: True  | 0.9789628982543945\n",
      "Node 7 is predicted to be in a triangle: False  | 0.023499129340052605\n",
      "Node 8 is predicted to be in a triangle: False  | 0.023499129340052605\n"
     ]
    }
   ],
   "source": [
    "for node, (label, predicted) in enumerate(neuralogic_evaluator.test(test_dataset)):\n",
    "    print(f\"Node {node + 1} is predicted to be in a triangle: {bool(int(round(predicted)))}  | {predicted}\")\n"
   ],
   "metadata": {
    "collapsed": false,
    "pycharm": {
     "name": "#%%\n"
    }
   }
  },
  {
   "cell_type": "markdown",
   "source": [
    "\n",
    "Another slightly more complex example might be capturing cliques\n",
    "in a graph - i.e. subgraphs that are complete. We present capturing\n",
    "cliques of the size of four in Example [2](#Example-2:-Capturing-the-pattern-of-a-clique-of-the-size-of-four-nodes). In the\n",
    "clique example, we utilize an atom with a special predicate `alldiff`,\n",
    "which guarantees the specified variables in its terms to have unique\n",
    "values (all different). We use `...` in place of terms, which PyNeuraLogic\n",
    "later substitutes for all variables found in the current rule."
   ],
   "metadata": {
    "collapsed": false
   }
  },
  {
   "cell_type": "markdown",
   "source": [
    "#### Example 2: Capturing the pattern of a clique of the size of four nodes"
   ],
   "metadata": {
    "collapsed": false
   }
  },
  {
   "cell_type": "code",
   "source": [
    "train_dataset = Dataset()\n",
    "\n",
    "template = Template()\n",
    "\n",
    "template.add_rules([\n",
    "    # Captures clique\n",
    "    Relation.clique(Var.X)[1,] <= (\n",
    "        Relation.feature(Var.X)[1,],\n",
    "        Relation.edge(Var.X, Var.Y), Relation.feature(Var.Y)[1,],\n",
    "        Relation.edge(Var.X, Var.Z), Relation.feature(Var.Z)[1,],\n",
    "        Relation.edge(Var.X, Var.R), Relation.feature(Var.R)[1,],\n",
    "        Relation.edge(Var.Y, Var.Z), Relation.edge(Var.Y, Var.R),\n",
    "        Relation.edge(Var.Z, Var.R),\n",
    "        Relation.special.alldiff(Var.X, Var.Y, Var.Z, Var.R),\n",
    "    ),\n",
    "\n",
    "    # Captures general graph\n",
    "    Relation.general(Var.X)[1,] <= (Relation.edge(Var.X, Var.Y), Relation.feature(Var.Y)[1,]),\n",
    "    Relation.general(Var.X)[1,] <= Relation.feature(Var.Y)[1,],\n",
    "\n",
    "    Relation.predict(Var.X) <= Relation.general(Var.X)[1,],\n",
    "    Relation.predict(Var.X) <= Relation.clique(Var.X)[1,],\n",
    "])\n",
    "\n",
    "train_dataset.add_example(\n",
    "    [\n",
    "        # Encoded graph:      6--4--1---2\n",
    "        #                        |  |\\/|\n",
    "        #                        5  |/\\|\n",
    "        #                           3--7\n",
    "        #\n",
    "\n",
    "        Relation.edge(1, 2), Relation.edge(2, 3), Relation.edge(3, 1),\n",
    "        Relation.edge(2, 1), Relation.edge(3, 2), Relation.edge(1, 3),\n",
    "        Relation.edge(1, 4), Relation.edge(4, 5), Relation.edge(4, 6),\n",
    "        Relation.edge(4, 1), Relation.edge(5, 4), Relation.edge(6, 4),\n",
    "        Relation.edge(1, 7), Relation.edge(3, 7), Relation.edge(7, 2),\n",
    "        Relation.edge(7, 1), Relation.edge(7, 3), Relation.edge(2, 7),\n",
    "\n",
    "        Relation.feature(1), Relation.feature(2), Relation.feature(3),\n",
    "        Relation.feature(4), Relation.feature(5), Relation.feature(6),\n",
    "        Relation.feature(7),\n",
    "    ],\n",
    ")\n",
    "\n",
    "train_dataset.add_queries([\n",
    "    Relation.predict(1)[1],\n",
    "    Relation.predict(2)[1],\n",
    "    Relation.predict(3)[1],\n",
    "    Relation.predict(4)[0],\n",
    "    Relation.predict(5)[0],\n",
    "    Relation.predict(6)[0],\n",
    "    Relation.predict(7)[1]\n",
    "])"
   ],
   "metadata": {
    "collapsed": false,
    "pycharm": {
     "name": "#%%\n"
    }
   },
   "execution_count": 6,
   "outputs": []
  },
  {
   "cell_type": "code",
   "execution_count": 7,
   "outputs": [
    {
     "name": "stdout",
     "output_type": "stream",
     "text": [
      "Node 1 is predicted to be in a clique: True  | 0.9800930619239807\n",
      "Node 2 is predicted to be in a clique: True  | 0.9800930619239807\n",
      "Node 3 is predicted to be in a clique: True  | 0.9800930619239807\n",
      "Node 4 is predicted to be in a clique: False  | 0.02667420543730259\n",
      "Node 5 is predicted to be in a clique: False  | 0.02667420543730259\n",
      "Node 6 is predicted to be in a clique: False  | 0.02667420543730259\n",
      "Node 7 is predicted to be in a clique: True  | 0.9800930619239807\n"
     ]
    }
   ],
   "source": [
    "settings = Settings(optimizer=Optimizer.SGD, epochs=200)\n",
    "neuralogic_evaluator = get_evaluator(template, Backend.DYNET, settings)\n",
    "\n",
    "for _ in neuralogic_evaluator.train(train_dataset):\n",
    "    pass\n",
    "\n",
    "for node, (label, predicted) in enumerate(neuralogic_evaluator.test(train_dataset)):\n",
    "    print(f\"Node {node + 1} is predicted to be in a clique: {bool(int(round(predicted)))}  | {predicted}\")\n",
    "\n"
   ],
   "metadata": {
    "collapsed": false,
    "pycharm": {
     "name": "#%%\n"
    }
   }
  },
  {
   "cell_type": "code",
   "source": [
    "test_dataset = Dataset()\n",
    "\n",
    "\n",
    "test_dataset.add_example(\n",
    "    [\n",
    "        # Encoded graph:      6--4--1---2--9\n",
    "        #                     |\\/|  |\\/| \\ |\n",
    "        #                     |/\\|  |/\\|  10\n",
    "        #                     8--5  3--7\n",
    "        #\n",
    "\n",
    "        Relation.edge(1, 2), Relation.edge(2, 3), Relation.edge(3, 1),\n",
    "        Relation.edge(2, 1), Relation.edge(3, 2), Relation.edge(1, 3),\n",
    "        Relation.edge(1, 4), Relation.edge(4, 5), Relation.edge(4, 6),\n",
    "        Relation.edge(4, 1), Relation.edge(5, 4), Relation.edge(6, 4),\n",
    "\n",
    "        Relation.edge(1, 7), Relation.edge(3, 7), Relation.edge(7, 2),\n",
    "        Relation.edge(7, 1), Relation.edge(7, 3), Relation.edge(2, 7),\n",
    "\n",
    "        Relation.edge(8, 5), Relation.edge(6, 8), Relation.edge(4, 8),\n",
    "        Relation.edge(5, 8), Relation.edge(8, 6), Relation.edge(8, 4),\n",
    "        Relation.edge(6, 5), Relation.edge(2, 10), Relation.edge(2, 9),\n",
    "        Relation.edge(5, 6), Relation.edge(10, 2), Relation.edge(9, 2),\n",
    "\n",
    "        Relation.feature(1), Relation.feature(2), Relation.feature(3),\n",
    "        Relation.feature(4), Relation.feature(5), Relation.feature(6),\n",
    "        Relation.feature(7), Relation.feature(8), Relation.feature(9),\n",
    "        Relation.feature(10),\n",
    "    ],\n",
    ")\n",
    "\n",
    "test_dataset.add_queries([\n",
    "    Relation.predict(1)[0],\n",
    "    Relation.predict(2)[0],\n",
    "    Relation.predict(3)[0],\n",
    "    Relation.predict(4)[0],\n",
    "    Relation.predict(5)[0],\n",
    "    Relation.predict(6)[0],\n",
    "    Relation.predict(7)[0],\n",
    "    Relation.predict(8)[0],\n",
    "    Relation.predict(9)[0],\n",
    "    Relation.predict(10)[0],\n",
    "])"
   ],
   "metadata": {
    "collapsed": false,
    "pycharm": {
     "name": "#%%\n"
    }
   },
   "execution_count": 8,
   "outputs": []
  },
  {
   "cell_type": "code",
   "execution_count": 9,
   "outputs": [
    {
     "name": "stdout",
     "output_type": "stream",
     "text": [
      "Node 1 is predicted to be in a clique: True  | 0.9800930619239807\n",
      "Node 2 is predicted to be in a clique: True  | 0.9800930619239807\n",
      "Node 3 is predicted to be in a clique: True  | 0.9800930619239807\n",
      "Node 4 is predicted to be in a clique: True  | 0.9800930619239807\n",
      "Node 5 is predicted to be in a clique: True  | 0.9800930619239807\n",
      "Node 6 is predicted to be in a clique: True  | 0.9800930619239807\n",
      "Node 7 is predicted to be in a clique: True  | 0.9800930619239807\n",
      "Node 8 is predicted to be in a clique: True  | 0.9800930619239807\n",
      "Node 9 is predicted to be in a clique: False  | 0.02667420543730259\n",
      "Node 10 is predicted to be in a clique: False  | 0.02667420543730259\n"
     ]
    }
   ],
   "source": [
    "for node, (label, predicted) in enumerate(neuralogic_evaluator.test(test_dataset)):\n",
    "    print(f\"Node {node + 1} is predicted to be in a clique: {bool(int(round(predicted)))}  | {predicted}\")"
   ],
   "metadata": {
    "collapsed": false,
    "pycharm": {
     "name": "#%%\n"
    }
   }
  }
 ],
 "metadata": {
  "kernelspec": {
   "display_name": "Python 3",
   "language": "python",
   "name": "python3"
  },
  "language_info": {
   "codemirror_mode": {
    "name": "ipython",
    "version": 2
   },
   "file_extension": ".py",
   "mimetype": "text/x-python",
   "name": "python",
   "nbconvert_exporter": "python",
   "pygments_lexer": "ipython2",
   "version": "2.7.6"
  }
 },
 "nbformat": 4,
 "nbformat_minor": 0
}