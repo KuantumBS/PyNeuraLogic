{
 "cells": [
  {
   "cell_type": "markdown",
   "source": [
    "# Pattern Matching\n",
    "\n",
    "One of the substantial extensions of vanilla Graph Neural Networks\n",
    "introduced by the PyNeuraLogic library is capturing underlying graph\n",
    "patterns. We can, for instance, recognize nodes that are parts of cycles,\n",
    "such as cycles of the length of three - triangles,\n",
    "presented in Example [1](#Example-1:-Capturing-the-pattern-of-triangles)."
   ],
   "metadata": {
    "collapsed": false
   }
  },
  {
   "cell_type": "code",
   "source": [
    "from neuralogic.nn import get_evaluator\n",
    "from neuralogic.core import Backend\n",
    "from neuralogic.core import Atom, Template, Var, Term\n",
    "from neuralogic.core.settings import Settings, Optimizer\n",
    "from neuralogic.utils.data import Dataset"
   ],
   "metadata": {
    "collapsed": false,
    "pycharm": {
     "name": "#%%\n"
    }
   },
   "execution_count": 7,
   "outputs": []
  },
  {
   "cell_type": "markdown",
   "source": [
    "#### Example 1: Capturing the pattern of triangles\n"
   ],
   "metadata": {
    "collapsed": false
   }
  },
  {
   "cell_type": "code",
   "execution_count": 8,
   "outputs": [],
   "source": [
    "settings = Settings(optimizer=Optimizer.SGD, epochs=200)\n",
    "train_dataset = Dataset()\n",
    "\n",
    "with Template(settings).context() as template:\n",
    "    template.add_rules([\n",
    "        # Captures triangle\n",
    "        Atom.triangle(Var.X)[1,] <= (\n",
    "            Atom.edge(Var.X, Var.Y), Atom.feature(Var.Y)[1,],\n",
    "            Atom.edge(Var.Y, Var.Z), Atom.feature(Var.Z)[1,],\n",
    "            Atom.edge(Var.Z, Var.X), Atom.feature(Var.X)[1,],\n",
    "        ),\n",
    "\n",
    "        # Captures general graph\n",
    "        Atom.general(Var.X)[1,] <= (Atom.edge(Var.X, Var.Y), Atom.feature(Var.Y)[1,]),\n",
    "        Atom.general(Var.X)[1,] <= Atom.feature(Var.Y)[1,],\n",
    "\n",
    "        Atom.predict(Var.X) <= Atom.general(Var.X)[1,],\n",
    "        Atom.predict(Var.X) <= Atom.triangle(Var.X)[1,],\n",
    "    ])\n",
    "\n",
    "    train_dataset.add_example(\n",
    "        [\n",
    "            # Encoded graph:      6--4--1---2\n",
    "            #                        |   \\ /\n",
    "            #                        5    3\n",
    "\n",
    "            Atom.edge(1, 2), Atom.edge(2, 3), Atom.edge(3, 1),\n",
    "            Atom.edge(2, 1), Atom.edge(3, 2), Atom.edge(1, 3),\n",
    "            Atom.edge(1, 4), Atom.edge(4, 5), Atom.edge(4, 6),\n",
    "            Atom.edge(4, 1), Atom.edge(5, 4), Atom.edge(6, 4),\n",
    "\n",
    "            Atom.feature(1), Atom.feature(2), Atom.feature(3),\n",
    "            Atom.feature(4), Atom.feature(5), Atom.feature(6),\n",
    "        ],\n",
    "    )\n",
    "\n",
    "    train_dataset.add_queries([\n",
    "        Atom.predict(1)[1],\n",
    "        Atom.predict(2)[1],\n",
    "        Atom.predict(3)[1],\n",
    "        Atom.predict(4)[0],\n",
    "        Atom.predict(5)[0],\n",
    "        Atom.predict(6)[0],\n",
    "    ])"
   ],
   "metadata": {
    "collapsed": false,
    "pycharm": {
     "name": "#%%\n"
    }
   }
  },
  {
   "cell_type": "code",
   "execution_count": 16,
   "outputs": [
    {
     "name": "stdout",
     "output_type": "stream",
     "text": [
      "Node 1 is predicted to be in triangle: True  | 0.9750847220420837\n",
      "Node 2 is predicted to be in triangle: True  | 0.9750847220420837\n",
      "Node 3 is predicted to be in triangle: True  | 0.9750847220420837\n",
      "Node 4 is predicted to be in triangle: False  | 0.027181323617696762\n",
      "Node 5 is predicted to be in triangle: False  | 0.027181323617696762\n",
      "Node 6 is predicted to be in triangle: False  | 0.027181323617696762\n"
     ]
    }
   ],
   "source": [
    "neuralogic_evaluator = get_evaluator(Backend.DYNET, template)\n",
    "\n",
    "for _ in neuralogic_evaluator.train(train_dataset):\n",
    "    pass\n",
    "\n",
    "for node, (label, predicted) in enumerate(neuralogic_evaluator.test(train_dataset)):\n",
    "    print(f\"Node {node + 1} is predicted to be in a triangle: {bool(int(round(predicted)))}  | {predicted}\")"
   ],
   "metadata": {
    "collapsed": false,
    "pycharm": {
     "name": "#%%\n"
    }
   }
  },
  {
   "cell_type": "code",
   "execution_count": 13,
   "outputs": [],
   "source": [
    "test_dataset = Dataset()\n",
    "\n",
    "with template.context():\n",
    "    test_dataset.add_example(\n",
    "        [\n",
    "            # Encoded graph:      6--4--1---2--8\n",
    "            #                      \\ |   \\ /\n",
    "            #                       5     3--7\n",
    "\n",
    "            Atom.edge(1, 2), Atom.edge(2, 3), Atom.edge(3, 1),\n",
    "            Atom.edge(2, 1), Atom.edge(3, 2), Atom.edge(1, 3),\n",
    "            Atom.edge(1, 4), Atom.edge(4, 5), Atom.edge(4, 6),\n",
    "            Atom.edge(4, 1), Atom.edge(5, 4), Atom.edge(6, 4),\n",
    "            Atom.edge(2, 8), Atom.edge(3, 7), Atom.edge(6, 5),\n",
    "            Atom.edge(8, 2), Atom.edge(7, 3), Atom.edge(5, 6),\n",
    "\n",
    "            Atom.feature(1), Atom.feature(2), Atom.feature(3),\n",
    "            Atom.feature(4), Atom.feature(5), Atom.feature(6),\n",
    "            Atom.faeture(7), Atom.faature(8),\n",
    "        ],\n",
    "    )\n",
    "\n",
    "    test_dataset.add_queries([\n",
    "        Atom.predict(1)[0],\n",
    "        Atom.predict(2)[0],\n",
    "        Atom.predict(3)[0],\n",
    "        Atom.predict(4)[0],\n",
    "        Atom.predict(5)[0],\n",
    "        Atom.predict(6)[0],\n",
    "        Atom.predict(7)[0],\n",
    "        Atom.predict(8)[0],\n",
    "    ])"
   ],
   "metadata": {
    "collapsed": false,
    "pycharm": {
     "name": "#%%\n"
    }
   }
  },
  {
   "cell_type": "code",
   "execution_count": 15,
   "outputs": [
    {
     "name": "stdout",
     "output_type": "stream",
     "text": [
      "Node 1 is predicted to be in triangle: True  | 0.9750847220420837\n",
      "Node 2 is predicted to be in triangle: True  | 0.9750847220420837\n",
      "Node 3 is predicted to be in triangle: True  | 0.9750847220420837\n",
      "Node 4 is predicted to be in triangle: True  | 0.9750847220420837\n",
      "Node 5 is predicted to be in triangle: True  | 0.9750847220420837\n",
      "Node 6 is predicted to be in triangle: True  | 0.9750847220420837\n",
      "Node 7 is predicted to be in triangle: False  | 0.027181323617696762\n",
      "Node 8 is predicted to be in triangle: False  | 0.027181323617696762\n"
     ]
    }
   ],
   "source": [
    "for node, (label, predicted) in enumerate(neuralogic_evaluator.test(test_dataset)):\n",
    "    print(f\"Node {node + 1} is predicted to be in a triangle: {bool(int(round(predicted)))}  | {predicted}\")\n"
   ],
   "metadata": {
    "collapsed": false,
    "pycharm": {
     "name": "#%%\n"
    }
   }
  },
  {
   "cell_type": "markdown",
   "source": [
    "\n",
    "Another slightly more complex example might be capturing cliques\n",
    "in a graph - i.e. subgraphs that are complete. We present capturing\n",
    "cliques of the size of four in Example [2](#Example-2:-Capturing-the-pattern-of-a-clique-of-the-size-of-four-nodes). In the\n",
    "clique example, we utilize an atom with a special predicate `alldiff`,\n",
    "which guarantees the specified variables in its terms to have unique\n",
    "values (all different). We use `...` in place of terms, which PyNeuraLogic\n",
    "later substitutes for all variables found in the current rule."
   ],
   "metadata": {
    "collapsed": false
   }
  },
  {
   "cell_type": "markdown",
   "source": [
    "#### Example 2: Capturing the pattern of a clique of the size of four nodes"
   ],
   "metadata": {
    "collapsed": false
   }
  },
  {
   "cell_type": "code",
   "source": [
    "settings = Settings(optimizer=Optimizer.SGD, epochs=200)\n",
    "train_dataset = Dataset()\n",
    "\n",
    "with Template(settings).context() as template:\n",
    "    template.add_rules([\n",
    "        # Captures clique\n",
    "        Atom.clique(Var.X)[1,] <= (\n",
    "            Atom.feature(Var.X)[1,],\n",
    "            Atom.edge(Var.X, Var.Y), Atom.feature(Var.Y)[1,],\n",
    "            Atom.edge(Var.X, Var.Z), Atom.feature(Var.Z)[1,],\n",
    "            Atom.edge(Var.X, Var.R), Atom.feature(Var.R)[1,],\n",
    "            Atom.edge(Var.Y, Var.Z), Atom.edge(Var.Y, Var.R),\n",
    "            Atom.edge(Var.Z, Var.R),\n",
    "            Atom.special.alldiff(Var.X, Var.Y, Var.Z, Var.R),\n",
    "        ),\n",
    "\n",
    "        # Captures general graph\n",
    "        Atom.general(Var.X)[1,] <= (Atom.edge(Var.X, Var.Y), Atom.feature(Var.Y)[1,]),\n",
    "        Atom.general(Var.X)[1,] <= Atom.feature(Var.Y)[1,],\n",
    "\n",
    "        Atom.predict(Var.X) <= Atom.general(Var.X)[1,],\n",
    "        Atom.predict(Var.X) <= Atom.clique(Var.X)[1,],\n",
    "    ])\n",
    "\n",
    "    train_dataset.add_example(\n",
    "        [\n",
    "            # Encoded graph:      6--4--1---2\n",
    "            #                        |  |\\/|\n",
    "            #                        5  |/\\|\n",
    "            #                           3--7\n",
    "            #\n",
    "\n",
    "            Atom.edge(1, 2), Atom.edge(2, 3), Atom.edge(3, 1),\n",
    "            Atom.edge(2, 1), Atom.edge(3, 2), Atom.edge(1, 3),\n",
    "            Atom.edge(1, 4), Atom.edge(4, 5), Atom.edge(4, 6),\n",
    "            Atom.edge(4, 1), Atom.edge(5, 4), Atom.edge(6, 4),\n",
    "            Atom.edge(1, 7), Atom.edge(3, 7), Atom.edge(7, 2),\n",
    "            Atom.edge(7, 1), Atom.edge(7, 3), Atom.edge(2, 7),\n",
    "\n",
    "            Atom.feature(1), Atom.feature(2), Atom.feature(3),\n",
    "            Atom.feature(4), Atom.feature(5), Atom.feature(6),\n",
    "            Atom.feature(7),\n",
    "        ],\n",
    "    )\n",
    "\n",
    "    train_dataset.add_queries([\n",
    "        Atom.predict(1)[1],\n",
    "        Atom.predict(2)[1],\n",
    "        Atom.predict(3)[1],\n",
    "        Atom.predict(4)[0],\n",
    "        Atom.predict(5)[0],\n",
    "        Atom.predict(6)[0],\n",
    "        Atom.predict(7)[1]\n",
    "    ])"
   ],
   "metadata": {
    "collapsed": false,
    "pycharm": {
     "name": "#%%\n"
    }
   },
   "execution_count": 34,
   "outputs": []
  },
  {
   "cell_type": "code",
   "execution_count": 35,
   "outputs": [
    {
     "name": "stdout",
     "output_type": "stream",
     "text": [
      "Node 1 is predicted to be in a clique: True  | 0.9797205924987793\n",
      "Node 2 is predicted to be in a clique: True  | 0.9797205924987793\n",
      "Node 3 is predicted to be in a clique: True  | 0.9797205924987793\n",
      "Node 4 is predicted to be in a clique: False  | 0.027427352964878082\n",
      "Node 5 is predicted to be in a clique: False  | 0.027427352964878082\n",
      "Node 6 is predicted to be in a clique: False  | 0.027427352964878082\n",
      "Node 7 is predicted to be in a clique: True  | 0.9797205924987793\n"
     ]
    }
   ],
   "source": [
    "neuralogic_evaluator = get_evaluator(Backend.DYNET, template)\n",
    "\n",
    "for _ in neuralogic_evaluator.train(train_dataset):\n",
    "    pass\n",
    "\n",
    "for node, (label, predicted) in enumerate(neuralogic_evaluator.test(train_dataset)):\n",
    "    print(f\"Node {node + 1} is predicted to be in a clique: {bool(int(round(predicted)))}  | {predicted}\")\n",
    "\n"
   ],
   "metadata": {
    "collapsed": false,
    "pycharm": {
     "name": "#%%\n"
    }
   }
  },
  {
   "cell_type": "code",
   "source": [
    "test_dataset = Dataset()\n",
    "\n",
    "with template.context():\n",
    "    test_dataset.add_example(\n",
    "        [\n",
    "            # Encoded graph:      6--4--1---2--9\n",
    "            #                     |\\/|  |\\/| \\ |\n",
    "            #                     |/\\|  |/\\|  10\n",
    "            #                     8--5  3--7\n",
    "            #\n",
    "\n",
    "            Atom.edge(1, 2), Atom.edge(2, 3), Atom.edge(3, 1),\n",
    "            Atom.edge(2, 1), Atom.edge(3, 2), Atom.edge(1, 3),\n",
    "            Atom.edge(1, 4), Atom.edge(4, 5), Atom.edge(4, 6),\n",
    "            Atom.edge(4, 1), Atom.edge(5, 4), Atom.edge(6, 4),\n",
    "\n",
    "            Atom.edge(1, 7), Atom.edge(3, 7), Atom.edge(7, 2),\n",
    "            Atom.edge(7, 1), Atom.edge(7, 3), Atom.edge(2, 7),\n",
    "\n",
    "            Atom.edge(8, 5), Atom.edge(6, 8), Atom.edge(4, 8),\n",
    "            Atom.edge(5, 8), Atom.edge(8, 6), Atom.edge(8, 4),\n",
    "            Atom.edge(6, 5), Atom.edge(2, 10), Atom.edge(2, 9),\n",
    "            Atom.edge(5, 6), Atom.edge(10, 2), Atom.edge(9, 2),\n",
    "\n",
    "            Atom.feature(1), Atom.feature(2), Atom.feature(3),\n",
    "            Atom.feature(4), Atom.feature(5), Atom.feature(6),\n",
    "            Atom.feature(7), Atom.feature(8), Atom.feature(9),\n",
    "            Atom.feature(10),\n",
    "        ],\n",
    "    )\n",
    "\n",
    "    test_dataset.add_queries([\n",
    "        Atom.predict(1)[0],\n",
    "        Atom.predict(2)[0],\n",
    "        Atom.predict(3)[0],\n",
    "        Atom.predict(4)[0],\n",
    "        Atom.predict(5)[0],\n",
    "        Atom.predict(6)[0],\n",
    "        Atom.predict(7)[0],\n",
    "        Atom.predict(8)[0],\n",
    "        Atom.predict(9)[0],\n",
    "        Atom.predict(10)[0],\n",
    "    ])"
   ],
   "metadata": {
    "collapsed": false,
    "pycharm": {
     "name": "#%%\n"
    }
   },
   "execution_count": 36,
   "outputs": []
  },
  {
   "cell_type": "code",
   "execution_count": 37,
   "outputs": [
    {
     "name": "stdout",
     "output_type": "stream",
     "text": [
      "Node 1 is predicted to be in a clique: True  | 0.9797205924987793\n",
      "Node 2 is predicted to be in a clique: True  | 0.9797205924987793\n",
      "Node 3 is predicted to be in a clique: True  | 0.9797205924987793\n",
      "Node 4 is predicted to be in a clique: True  | 0.9797205924987793\n",
      "Node 5 is predicted to be in a clique: True  | 0.9797205924987793\n",
      "Node 6 is predicted to be in a clique: True  | 0.9797205924987793\n",
      "Node 7 is predicted to be in a clique: True  | 0.9797205924987793\n",
      "Node 8 is predicted to be in a clique: True  | 0.9797205924987793\n",
      "Node 9 is predicted to be in a clique: False  | 0.027427352964878082\n",
      "Node 10 is predicted to be in a clique: False  | 0.027427352964878082\n"
     ]
    }
   ],
   "source": [
    "for node, (label, predicted) in enumerate(neuralogic_evaluator.test(test_dataset)):\n",
    "    print(f\"Node {node + 1} is predicted to be in a clique: {bool(int(round(predicted)))}  | {predicted}\")"
   ],
   "metadata": {
    "collapsed": false,
    "pycharm": {
     "name": "#%%\n"
    }
   }
  }
 ],
 "metadata": {
  "kernelspec": {
   "display_name": "Python 3",
   "language": "python",
   "name": "python3"
  },
  "language_info": {
   "codemirror_mode": {
    "name": "ipython",
    "version": 2
   },
   "file_extension": ".py",
   "mimetype": "text/x-python",
   "name": "python",
   "nbconvert_exporter": "python",
   "pygments_lexer": "ipython2",
   "version": "2.7.6"
  }
 },
 "nbformat": 4,
 "nbformat_minor": 0
}
