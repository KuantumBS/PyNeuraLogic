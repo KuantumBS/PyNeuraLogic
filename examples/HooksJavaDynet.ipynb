{
 "cells": [
  {
   "cell_type": "code",
   "execution_count": 1,
   "metadata": {},
   "outputs": [],
   "source": [
    "from examples.datasets.multiple_examples_no_order_trains import template, dataset\n",
    "\n",
    "from neuralogic.nn import get_evaluator\n",
    "from neuralogic.core import Backend"
   ]
  },
  {
   "cell_type": "code",
   "execution_count": 2,
   "metadata": {},
   "outputs": [
    {
     "name": "stdout",
     "output_type": "stream",
     "text": [
      "shape(Y) :- {1} shape(Y, ellipse).\n",
      "shape(Y) :- {1} shape(Y, rectangle).\n",
      "shape(Y) :- {1} shape(Y, bucket).\n",
      "shape(Y) :- {1} shape(Y, hexagon).\n",
      "shape(Y) :- {1} shape(Y, u_shaped).\n",
      "length(Y) :- {1} length(Y, short).\n",
      "length(Y) :- {1} length(Y, long).\n",
      "sides(Y) :- {1} sides(Y, not_double).\n",
      "sides(Y) :- {1} sides(Y, double).\n",
      "roof(Y) :- {1} roof(Y, jagged).\n",
      "roof(Y) :- {1} roof(Y, arc).\n",
      "roof(Y) :- {1} roof(Y, none).\n",
      "roof(Y) :- {1} roof(Y, flat).\n",
      "roof(Y) :- {1} roof(Y, peaked).\n",
      "wheels(Y) :- {1} wheels(Y, 2).\n",
      "wheels(Y) :- {1} wheels(Y, 3).\n",
      "loadnum(Y) :- {1} loadnum(Y, 0).\n",
      "loadnum(Y) :- {1} loadnum(Y, 1).\n",
      "loadnum(Y) :- {1} loadnum(Y, 2).\n",
      "loadnum(Y) :- {1} loadnum(Y, 3).\n",
      "loadshape(Y) :- {1} loadshape(Y, hexagon).\n",
      "loadshape(Y) :- {1} loadshape(Y, triangle).\n",
      "loadshape(Y) :- {1} loadshape(Y, diamond).\n",
      "loadshape(Y) :- {1} loadshape(Y, rectangle).\n",
      "loadshape(Y) :- {1} loadshape(Y, circle).\n",
      "{1} vagon(Y) :- {1} shape(Y), {1} length(Y), {1} sides(Y), {1} wheels(Y), {1} loadnum(Y), {1} loadshape(Y), {1} roof(Y).\n",
      "train :- {1} vagon(Y).\n",
      "direction :- {1} train.\n"
     ]
    }
   ],
   "source": [
    "print(template)"
   ]
  },
  {
   "cell_type": "markdown",
   "metadata": {},
   "source": [
    "## Dynet hooks"
   ]
  },
  {
   "cell_type": "code",
   "execution_count": 3,
   "metadata": {},
   "outputs": [
    {
     "name": "stdout",
     "output_type": "stream",
     "text": [
      "{'vagon(3)': {<function my_hook at 0x7f1e60773670>}}\n"
     ]
    }
   ],
   "source": [
    "def my_hook(value):\n",
    "    print(\"Dynet hooked vagon(3) with value:\", value)\n",
    "\n",
    "\n",
    "template.add_hook(\"vagon(3)\", my_hook)\n",
    "print(template.hooks)"
   ]
  },
  {
   "cell_type": "code",
   "execution_count": 4,
   "metadata": {},
   "outputs": [
    {
     "name": "stdout",
     "output_type": "stream",
     "text": [
      "Dynet hooked vagon(3) with value: -0.01936168409883976\n",
      "Dynet hooked vagon(3) with value: -0.2777891159057617\n",
      "Dynet hooked vagon(3) with value: -0.2406938374042511\n",
      "Dynet hooked vagon(3) with value: -0.2399594485759735\n",
      "Dynet hooked vagon(3) with value: -0.2399594485759735\n",
      "Dynet hooked vagon(3) with value: -0.22175709903240204\n",
      "Dynet hooked vagon(3) with value: -0.2266278862953186\n",
      "Dynet hooked vagon(3) with value: -0.13495391607284546\n",
      "Dynet hooked vagon(3) with value: 0.05745712295174599\n",
      "Dynet hooked vagon(3) with value: -0.22175709903240204\n",
      "Dynet hooked vagon(3) with value: -0.25665283203125\n",
      "Dynet hooked vagon(3) with value: 0.026792442426085472\n",
      "Dynet hooked vagon(3) with value: -0.25665283203125\n",
      "Dynet hooked vagon(3) with value: -0.13438346982002258\n"
     ]
    }
   ],
   "source": [
    "neuralogic_evaluator = get_evaluator(template, Backend.DYNET)\n",
    "\n",
    "\n",
    "for epoch, (total_loss, seen_instances) in enumerate(neuralogic_evaluator.train(dataset)):\n",
    "    break  # Do only one epoch"
   ]
  },
  {
   "cell_type": "code",
   "execution_count": 5,
   "metadata": {},
   "outputs": [
    {
     "name": "stdout",
     "output_type": "stream",
     "text": [
      "{'vagon(3)': set()}\n"
     ]
    }
   ],
   "source": [
    "template.remove_hook(\"vagon(3)\", my_hook)\n",
    "print(template.hooks)"
   ]
  },
  {
   "cell_type": "markdown",
   "metadata": {},
   "source": [
    "## Java hooks"
   ]
  },
  {
   "cell_type": "code",
   "execution_count": 6,
   "metadata": {},
   "outputs": [
    {
     "name": "stdout",
     "output_type": "stream",
     "text": [
      "{'vagon(3)': {<function my_java_hook at 0x7f1e40046790>}}\n"
     ]
    }
   ],
   "source": [
    "def my_java_hook(value):\n",
    "    print(\"Java hooked vagon(3) with value:\", value)\n",
    "\n",
    "\n",
    "template.add_hook(\"vagon(3)\", my_java_hook)\n",
    "print(template.hooks)"
   ]
  },
  {
   "cell_type": "code",
   "execution_count": 7,
   "metadata": {},
   "outputs": [
    {
     "name": "stdout",
     "output_type": "stream",
     "text": [
      "Java hooked vagon(3) with value: -0.4755653902\n",
      "Java hooked vagon(3) with value: -0.4533319711\n",
      "Java hooked vagon(3) with value: -0.3813355745\n",
      "Java hooked vagon(3) with value: -0.4396032752\n",
      "Java hooked vagon(3) with value: -0.4402386041\n",
      "Java hooked vagon(3) with value: -0.4621260996\n",
      "Java hooked vagon(3) with value: -0.4622394086\n",
      "Java hooked vagon(3) with value: -0.3571156674\n",
      "Java hooked vagon(3) with value: -0.3064723966\n",
      "Java hooked vagon(3) with value: -0.4780032179\n",
      "Java hooked vagon(3) with value: -0.3696507371\n",
      "Java hooked vagon(3) with value: -0.3624474814\n",
      "Java hooked vagon(3) with value: -0.3435422131\n",
      "Java hooked vagon(3) with value: -0.5408778663\n"
     ]
    }
   ],
   "source": [
    "neuralogic_evaluator = get_evaluator(template, Backend.JAVA)\n",
    "\n",
    "\n",
    "for epoch, (total_loss, seen_instances) in enumerate(neuralogic_evaluator.train(dataset)):\n",
    "    break  # Do only one epoch"
   ]
  }
 ],
 "metadata": {
  "kernelspec": {
   "display_name": "Python 3",
   "language": "python",
   "name": "python3"
  },
  "language_info": {
   "codemirror_mode": {
    "name": "ipython",
    "version": 3
   },
   "file_extension": ".py",
   "mimetype": "text/x-python",
   "name": "python",
   "nbconvert_exporter": "python",
   "pygments_lexer": "ipython3",
   "version": "3.8.5"
  }
 },
 "nbformat": 4,
 "nbformat_minor": 1
}