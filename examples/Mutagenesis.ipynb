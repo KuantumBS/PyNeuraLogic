{
 "cells": [
  {
   "cell_type": "markdown",
   "metadata": {
    "id": "KKVdX_O7ZvY0"
   },
   "source": [
    "# PyNeuraLogic Introduction Example\n",
    "\n",
    "---\n",
    "\n",
    "This example will showcase how to define a GNN model in the PyNeuraLogic language and evaluate it. The example is self-contained, with everything that is required to be run in a Colab. It can also be run locally if the prerequisites are met (installed Java)."
   ]
  },
  {
   "cell_type": "markdown",
   "metadata": {
    "id": "8CEE1Vy1Z5pQ"
   },
   "source": [
    "Install PyNeuraLogic from PyPI"
   ]
  },
  {
   "cell_type": "code",
   "execution_count": null,
   "metadata": {
    "id": "SujsflJQZ6Nj"
   },
   "outputs": [],
   "source": [
    "! pip install neuralogic"
   ]
  },
  {
   "cell_type": "markdown",
   "metadata": {
    "id": "flQw3rmscE7K"
   },
   "source": [
    "## Dataset\n",
    "\n",
    "We are going to use one of the predefined datasets called [Mutagenesis](https://www.doc.ic.ac.uk/~shm/mutagenesis.html). This dataset contains information about molecules that we are going to classify for mutagenicity on Salmonella typhimurium.\n",
    "\n",
    "Predefined datasets are located in `neuralogic.utils.data`, and by calling `Mutagenesis`, we retrieve a tuple containing the model (rules) and the input data (dataset). For this example, we are going to ignore the model and will define our own."
   ]
  },
  {
   "cell_type": "code",
   "execution_count": 1,
   "metadata": {
    "id": "mglV4jndaL2B"
   },
   "outputs": [],
   "source": [
    "from neuralogic.utils.data import Mutagenesis\n",
    "\n",
    "\n",
    "_, dataset = Mutagenesis()"
   ]
  },
  {
   "cell_type": "markdown",
   "metadata": {
    "id": "Gk8AIcCFasFV"
   },
   "source": [
    "Predefined examples are loaded from the file. We can check the first sample to get an idea how the data look like."
   ]
  },
  {
   "cell_type": "code",
   "execution_count": 2,
   "metadata": {
    "colab": {
     "base_uri": "https://localhost:8080/"
    },
    "id": "6VaRsqkIasaZ",
    "outputId": "e0c391ff-139e-4ead-8a5a-fe458f508580"
   },
   "outputs": [
    {
     "name": "stdout",
     "output_type": "stream",
     "text": [
      "bond(d59_23, d59_5, 0), h(d59_23), c(d59_5), b_1(0), bond(d59_5, d59_23, 0), bond(d59_20, d59_19, 1), c(d59_20), c(d59_19), b_7(1), bond(d59_19, d59_20, 1), bond(d59_10, d59_3, 2), c(d59_10), c(d59_3), b_7(2), bond(d59_3, d59_10, 2), bond(d59_14, d59_10, 3), c(d59_14), b_7(3), bond(d59_10, d59_14, 3), bond(d59_4, d59_3, 4), c(d59_4), b_7(4), bond(d59_3, d59_4, 4), bond(d59_10, d59_9, 5), c(d59_9), b_7(5), bond(d59_9, d59_10, 5), bond(d59_15, d59_28, 6), c(d59_15), h(d59_28), b_1(6), bond(d59_28, d59_15, 6), bond(d59_12, d59_13, 7), c(d59_12), c(d59_13), b_7(7), bond(d59_13, d59_12, 7), bond(d59_8, d59_9, 8), c(d59_8), b_7(8), bond(d59_9, d59_8, 8), bond(d59_7, d59_25, 9), c(d59_7), h(d59_25), b_1(9), bond(d59_25, d59_7, 9), bond(d59_30, d59_17, 10), h(d59_30), c(d59_17), b_1(10), bond(d59_17, d59_30, 10), bond(d59_15, d59_12, 11), b_7(11), bond(d59_12, d59_15, 11), bond(d59_2, d59_1, 12), c(d59_2), c(d59_1), b_7(12), bond(d59_1, d59_2, 12), bond(d59_17, d59_16, 13), c(d59_16), b_7(13), bond(d59_16, d59_17, 13), bond(d59_31, d59_19, 14), h(d59_31), b_1(14), bond(d59_19, d59_31, 14), bond(d59_9, d59_11, 15), c(d59_11), b_7(15), bond(d59_11, d59_9, 15), bond(d59_3, d59_2, 16), b_7(16), bond(d59_2, d59_3, 16), bond(d59_27, d59_11, 17), h(d59_27), b_1(17), bond(d59_11, d59_27, 17), bond(d59_22, d59_4, 18), h(d59_22), b_1(18), bond(d59_4, d59_22, 18), bond(d59_7, d59_8, 19), b_7(19), bond(d59_8, d59_7, 19), bond(d59_24, d59_6, 20), h(d59_24), c(d59_6), b_1(20), bond(d59_6, d59_24, 20), bond(d59_15, d59_16, 21), b_7(21), bond(d59_16, d59_15, 21), bond(d59_7, d59_2, 22), b_7(22), bond(d59_2, d59_7, 22), bond(d59_18, d59_20, 23), c(d59_18), b_7(23), bond(d59_20, d59_18, 23), bond(d59_18, d59_17, 24), b_7(24), bond(d59_17, d59_18, 24), bond(d59_18, d59_13, 25), b_7(25), bond(d59_13, d59_18, 25), bond(d59_32, d59_33, 26), n(d59_32), o(d59_33), b_2(26), bond(d59_33, d59_32, 26), bond(d59_5, d59_6, 27), b_7(27), bond(d59_6, d59_5, 27), bond(d59_6, d59_1, 28), b_7(28), bond(d59_1, d59_6, 28), bond(d59_19, d59_14, 29), b_7(29), bond(d59_14, d59_19, 29), bond(d59_29, d59_16, 30), h(d59_29), b_1(30), bond(d59_16, d59_29, 30), bond(d59_11, d59_12, 31), b_7(31), bond(d59_12, d59_11, 31), bond(d59_14, d59_13, 32), b_7(32), bond(d59_13, d59_14, 32), bond(d59_26, d59_8, 33), h(d59_26), b_1(33), bond(d59_8, d59_26, 33), bond(d59_32, d59_34, 34), o(d59_34), b_2(34), bond(d59_34, d59_32, 34), bond(d59_32, d59_20, 35), b_1(35), bond(d59_20, d59_32, 35), bond(d59_1, d59_21, 36), h(d59_21), b_1(36), bond(d59_21, d59_1, 36), bond(d59_5, d59_4, 37), b_7(37), bond(d59_4, d59_5, 37).\n",
      "\n"
     ]
    }
   ],
   "source": [
    "with open(dataset.examples_file) as fp:\n",
    "    print(fp.readline())"
   ]
  },
  {
   "cell_type": "markdown",
   "metadata": {
    "id": "TLfOk69ublG9"
   },
   "source": [
    "This textual storage format is slightly different from the PyNeuraLogic language. To encode such samples directly in PyNeuraLogic (Python code), we would write:\n",
    "\n",
    "```\n",
    "Relation.bond(Term.d59_23, Term.d59_5, 0), Relation.h(Term.d59_23), ...\n",
    "```\n",
    "\n",
    "In this molecular example, we are essentially encoding heterogeneous graphs with edges called `bonds`, where the first two terms are the chemical atom ids, and the third term is the bond id. The atoms' ids are then associated with specific atom types, such as `h` for hydrogen. Bond ids are then associated with bond types, such as `b_1` for a single bond, etc."
   ]
  },
  {
   "cell_type": "markdown",
   "metadata": {
    "id": "KOZev_cScMQy"
   },
   "source": [
    "## Template\n",
    "\n",
    "To define the template (model's 'architecture'), we first embed each chemical atom type to `atom_embed` with a unique learnable parameter vector of shape `[3, 1]` (an embedding). This can be simplified by utilizing list comprehension."
   ]
  },
  {
   "cell_type": "code",
   "execution_count": 3,
   "metadata": {
    "id": "vf-ryNvOcOYX"
   },
   "outputs": [],
   "source": [
    "from neuralogic.core import Template, R, V\n",
    "\n",
    "\n",
    "template = Template()\n",
    "\n",
    "template.add_rules([\n",
    "    (R.atom_embed(V.A)[3, 1] <= R.get(atom)(V.A)) for atom in [\"c\", \"o\", \"br\", \"i\", \"f\", \"h\", \"n\", \"cl\"]\n",
    "])"
   ]
  },
  {
   "cell_type": "markdown",
   "metadata": {
    "id": "qV58Qp-JcVlu"
   },
   "source": [
    "In the same way, we encode embeddings for bonds."
   ]
  },
  {
   "cell_type": "code",
   "execution_count": 4,
   "metadata": {
    "id": "wuliEkxzcWZJ"
   },
   "outputs": [],
   "source": [
    "template.add_rules([\n",
    "    (R.bond_embed(V.B)[3, 1] <= R.get(bond)(V.B)) for bond in [\"b_1\", \"b_2\", \"b_3\", \"b_4\", \"b_5\", \"b_7\"]\n",
    "])"
   ]
  },
  {
   "cell_type": "markdown",
   "metadata": {
    "id": "yMI5Icgrccum"
   },
   "source": [
    "We add one rule ('layer'), which follows the message passing concept of GNNs. Particularly, it aggregates all neighbors `Y` (nodes connected by the bond relation) of the central node `X` and projects representations of `X` and `Y` from the previous layer (`atom_embed`) through learnable parameters of shape `[3, 3]`.  We then combine those projections together with bond embedding. We get a list of values for each neighbor `Y`, which are again combined into one tensor to serve as the output of the relation `layer_1` for node `X`."
   ]
  },
  {
   "cell_type": "code",
   "execution_count": 5,
   "metadata": {
    "id": "YAGhZIy9cdcg"
   },
   "outputs": [],
   "source": [
    "template.add_rule(\n",
    "    R.layer_1(V.X) <= (R.atom_embed(V.X)[3, 3], R.atom_embed(V.Y)[3, 3], R.bond(V.X, V.Y, V.B), R.bond_embed(V.B)),\n",
    ")"
   ]
  },
  {
   "cell_type": "markdown",
   "metadata": {
    "id": "GA5ehjCNcnlu"
   },
   "source": [
    "In the same way, we add another two layers that will be 'connected' by utilizing representations from the previous layer. "
   ]
  },
  {
   "cell_type": "code",
   "execution_count": 6,
   "metadata": {
    "id": "df_vNmbwcoIF"
   },
   "outputs": [],
   "source": [
    "template.add_rules([\n",
    "    R.layer_2(V.X) <= (R.layer_1(V.X)[3, 3], R.layer_1(V.Y)[3, 3], R.bond(V.X, V.Y, V.B), R.bond_embed(V.B)),\n",
    "    R.layer_3(V.X) <= (R.layer_2(V.X)[3, 3], R.layer_2(V.Y)[3, 3], R.bond(V.X, V.Y, V.B), R.bond_embed(V.B)),\n",
    "])"
   ]
  },
  {
   "cell_type": "markdown",
   "metadata": {
    "id": "4ZhNNrfrcuw7"
   },
   "source": [
    "In the last layer, we then aggregate all the nodes' (atoms') representations from the previous layer (`layer_3`), combine them, and project them through the learnable parameter of shape `[1, 3]` into a scalar value. This layer is then our output layer, corresponding to the learning target queries."
   ]
  },
  {
   "cell_type": "code",
   "execution_count": 7,
   "metadata": {
    "id": "K29q8NvLcvq4"
   },
   "outputs": [],
   "source": [
    "template.add_rule(\n",
    "    R.predict[1, 3] <= R.layer_3(V.X),\n",
    ")"
   ]
  },
  {
   "cell_type": "markdown",
   "metadata": {
    "id": "uju8LDYwcy2m"
   },
   "source": [
    "## Training\n",
    "\n",
    "When we have our dataset and template ready, it's time to build and train the model. We can do the training manually and write our own custom training loop, but we can also use predefined helpers - evaluators, that handle model building, training, dataset building, and more. Evaluators can be customized via `Settings`."
   ]
  },
  {
   "cell_type": "code",
   "execution_count": 8,
   "metadata": {
    "id": "OvixrLnZc2Ao"
   },
   "outputs": [],
   "source": [
    "from neuralogic.core import Backend, Settings, Optimizer\n",
    "from neuralogic.nn.loss import MSE\n",
    "from neuralogic.nn import get_evaluator\n",
    "\n",
    "\n",
    "epochs = 120\n",
    "\n",
    "settings = Settings(optimizer=Optimizer.ADAM, epochs=epochs, learning_rate=0.001, error_function=MSE())\n",
    "evaluator = get_evaluator(template, Backend.JAVA, settings)"
   ]
  },
  {
   "cell_type": "markdown",
   "metadata": {
    "id": "t-AH9fwFddSn"
   },
   "source": [
    "We iterate through the iterator encapsulated in the `train` method for training, which yields a total loss of the epoch and the number of samples of the current epoch. We then get access to the results from the training loop that we can further visualize, inspect, log, etc."
   ]
  },
  {
   "cell_type": "code",
   "execution_count": 9,
   "metadata": {
    "colab": {
     "base_uri": "https://localhost:8080/",
     "height": 279
    },
    "id": "sSVqIDvoddzV",
    "outputId": "9b4ed322-e895-4005-8f03-5e6486b159c7"
   },
   "outputs": [
    {
     "data": {
      "image/png": "[encoded data removed]",
      "text/plain": [
       "<Figure size 432x288 with 1 Axes>"
      ]
     },
     "metadata": {
      "needs_background": "light"
     },
     "output_type": "display_data"
    }
   ],
   "source": [
    "from IPython.display import clear_output\n",
    "import matplotlib.pyplot as plt\n",
    "\n",
    "\n",
    "average_losses = []\n",
    "\n",
    "for current_total_loss, number_of_samples in evaluator.train(dataset):\n",
    "    clear_output(wait=True)\n",
    "    plt.ylabel(\"Loss\")\n",
    "    plt.xlabel(\"Epoch\")\n",
    "\n",
    "    plt.xlim(0, epochs)\n",
    "\n",
    "    average_losses.append(current_total_loss / number_of_samples)\n",
    "    \n",
    "    plt.plot(average_losses, label=\"Average loss\")\n",
    "\n",
    "    plt.legend()\n",
    "    plt.pause(0.001)\n",
    "    plt.show()"
   ]
  },
  {
   "cell_type": "markdown",
   "metadata": {
    "id": "Jl4xOLjP0vOG"
   },
   "source": [
    "We can also check what values would be the model outputs (for the same sample set here) by utilizing the `test` method."
   ]
  },
  {
   "cell_type": "code",
   "execution_count": 10,
   "metadata": {
    "colab": {
     "base_uri": "https://localhost:8080/"
    },
    "id": "OrRL7-wk0t_L",
    "outputId": "9f62a6ce-b29d-4d1a-947f-eb16f5d93683"
   },
   "outputs": [
    {
     "name": "stdout",
     "output_type": "stream",
     "text": [
      "Expected: 1.0, Predicted: 1 (0.7583636965102124)\n",
      "Expected: 1.0, Predicted: 1 (0.7323460491705178)\n",
      "Expected: 1.0, Predicted: 0 (0.2993995656765268)\n",
      "Expected: 1.0, Predicted: 1 (0.6554662345813814)\n",
      "Expected: 1.0, Predicted: 0 (0.13099011027294097)\n",
      "Expected: 1.0, Predicted: 1 (0.6804229750848236)\n",
      "Expected: 1.0, Predicted: 1 (0.6792529178246934)\n",
      "Expected: 1.0, Predicted: 1 (0.6146868397456817)\n",
      "Expected: 1.0, Predicted: 1 (0.5252482191581105)\n",
      "Expected: 1.0, Predicted: 0 (0.34682150586778443)\n",
      "Expected: 1.0, Predicted: 1 (0.615933840353385)\n",
      "Expected: 1.0, Predicted: 1 (0.5965356806120112)\n",
      "Expected: 1.0, Predicted: 1 (0.5387915562815375)\n",
      "Expected: 1.0, Predicted: 1 (0.5387286959102772)\n",
      "Expected: 1.0, Predicted: 1 (0.6551983541219301)\n",
      "Expected: 1.0, Predicted: 1 (0.5084267551621066)\n",
      "Expected: 1.0, Predicted: 1 (0.7043934398465992)\n",
      "Expected: 1.0, Predicted: 0 (0.2941796026638397)\n",
      "Expected: 1.0, Predicted: 1 (0.6347372581925238)\n",
      "Expected: 1.0, Predicted: 1 (0.6221022010644999)\n",
      "Expected: 1.0, Predicted: 1 (0.7583355733336016)\n",
      "Expected: 1.0, Predicted: 1 (0.6565214656810019)\n",
      "Expected: 1.0, Predicted: 1 (0.7035677211944709)\n",
      "Expected: 1.0, Predicted: 1 (0.6803899786005302)\n",
      "Expected: 1.0, Predicted: 1 (0.7043934398465992)\n",
      "Expected: 1.0, Predicted: 1 (0.6910626849834034)\n",
      "Expected: 1.0, Predicted: 1 (0.6948571992297221)\n",
      "Expected: 1.0, Predicted: 0 (0.23842970123280258)\n",
      "Expected: 1.0, Predicted: 0 (0.38868380585949414)\n",
      "Expected: 1.0, Predicted: 0 (0.4282341914117046)\n",
      "Expected: 1.0, Predicted: 1 (0.6632237535115572)\n",
      "Expected: 1.0, Predicted: 1 (0.7487758368547837)\n",
      "Expected: 1.0, Predicted: 1 (0.5396636421211021)\n",
      "Expected: 1.0, Predicted: 1 (0.6579722626080714)\n",
      "Expected: 1.0, Predicted: 1 (0.5739972113391792)\n",
      "Expected: 1.0, Predicted: 1 (0.7370474768683548)\n",
      "Expected: 1.0, Predicted: 1 (0.5725157368746513)\n",
      "Expected: 1.0, Predicted: 1 (0.7265495612512216)\n",
      "Expected: 1.0, Predicted: 1 (0.7078328792739843)\n",
      "Expected: 1.0, Predicted: 1 (0.706216401322436)\n",
      "Expected: 1.0, Predicted: 1 (0.6280954720243971)\n",
      "Expected: 1.0, Predicted: 1 (0.7362261063246508)\n",
      "Expected: 1.0, Predicted: 1 (0.7092773000133209)\n",
      "Expected: 1.0, Predicted: 1 (0.7583638391413665)\n",
      "Expected: 1.0, Predicted: 1 (0.7595384496297662)\n",
      "Expected: 1.0, Predicted: 1 (0.6317721401413431)\n",
      "Expected: 1.0, Predicted: 1 (0.6780562876284867)\n",
      "Expected: 1.0, Predicted: 1 (0.5619358766829866)\n",
      "Expected: 1.0, Predicted: 1 (0.7484304578839669)\n",
      "Expected: 1.0, Predicted: 1 (0.7583156943622809)\n",
      "Expected: 1.0, Predicted: 1 (0.5683013727888316)\n",
      "Expected: 1.0, Predicted: 0 (0.3512726702066945)\n",
      "Expected: 1.0, Predicted: 1 (0.7583408390407208)\n",
      "Expected: 1.0, Predicted: 1 (0.696469983914248)\n",
      "Expected: 1.0, Predicted: 1 (0.6166874036401182)\n",
      "Expected: 1.0, Predicted: 0 (0.23240191667792423)\n",
      "Expected: 1.0, Predicted: 0 (0.2082601082440419)\n",
      "Expected: 1.0, Predicted: 0 (0.30794475293748724)\n",
      "Expected: 1.0, Predicted: 1 (0.6298375342762591)\n",
      "Expected: 1.0, Predicted: 1 (0.6935770761489082)\n",
      "Expected: 1.0, Predicted: 1 (0.6695270822954716)\n",
      "Expected: 1.0, Predicted: 1 (0.5998270712309508)\n",
      "Expected: 1.0, Predicted: 1 (0.7323931956029396)\n",
      "Expected: 1.0, Predicted: 1 (0.7378390121450942)\n",
      "Expected: 1.0, Predicted: 1 (0.5646456978457701)\n",
      "Expected: 1.0, Predicted: 1 (0.6570108142241151)\n",
      "Expected: 1.0, Predicted: 1 (0.7323092667305957)\n",
      "Expected: 1.0, Predicted: 1 (0.7106720244560408)\n",
      "Expected: 1.0, Predicted: 1 (0.7371088758713855)\n",
      "Expected: 1.0, Predicted: 1 (0.7469464441806537)\n",
      "Expected: 1.0, Predicted: 1 (0.6388578643004411)\n",
      "Expected: 1.0, Predicted: 1 (0.6309335655472524)\n",
      "Expected: 1.0, Predicted: 0 (0.32012033424525477)\n",
      "Expected: 1.0, Predicted: 1 (0.5653142457065967)\n",
      "Expected: 1.0, Predicted: 1 (0.7726202188004274)\n",
      "Expected: 1.0, Predicted: 1 (0.7346236241719234)\n",
      "Expected: 1.0, Predicted: 1 (0.7583638613798231)\n",
      "Expected: 1.0, Predicted: 1 (0.7107040332247405)\n",
      "Expected: 1.0, Predicted: 1 (0.7043792844736534)\n",
      "Expected: 1.0, Predicted: 1 (0.5385396720062487)\n",
      "Expected: 1.0, Predicted: 1 (0.6631761516653099)\n",
      "Expected: 1.0, Predicted: 1 (0.6052898385913136)\n",
      "Expected: 1.0, Predicted: 0 (0.48409286566543563)\n",
      "Expected: 1.0, Predicted: 1 (0.6150692742488494)\n",
      "Expected: 1.0, Predicted: 1 (0.7583355733336016)\n",
      "Expected: 1.0, Predicted: 0 (0.39008091001712286)\n",
      "Expected: 1.0, Predicted: 1 (0.7106634742153302)\n",
      "Expected: 1.0, Predicted: 1 (0.6146377437898858)\n",
      "Expected: 1.0, Predicted: 1 (0.6298161378789255)\n",
      "Expected: 1.0, Predicted: 1 (0.6899058950768375)\n",
      "Expected: 1.0, Predicted: 1 (0.6143150108190001)\n",
      "Expected: 1.0, Predicted: 1 (0.7363267349211567)\n",
      "Expected: 1.0, Predicted: 1 (0.6964508039886993)\n",
      "Expected: 1.0, Predicted: 1 (0.6935770761489082)\n",
      "Expected: 1.0, Predicted: 1 (0.6968166575703288)\n",
      "Expected: 1.0, Predicted: 1 (0.748395312368955)\n",
      "Expected: 1.0, Predicted: 1 (0.6856451637592643)\n",
      "Expected: 1.0, Predicted: 0 (0.30367826613412136)\n",
      "Expected: 1.0, Predicted: 1 (0.7146829501369565)\n",
      "Expected: 1.0, Predicted: 1 (0.7323460491705182)\n",
      "Expected: 1.0, Predicted: 1 (0.6166385020720375)\n",
      "Expected: 1.0, Predicted: 1 (0.6547942460697398)\n",
      "Expected: 1.0, Predicted: 1 (0.7362679041621829)\n",
      "Expected: 1.0, Predicted: 1 (0.6173972274257867)\n",
      "Expected: 1.0, Predicted: 1 (0.6394355797619152)\n",
      "Expected: 1.0, Predicted: 1 (0.6563274617546493)\n",
      "Expected: 1.0, Predicted: 1 (0.7106634742153302)\n",
      "Expected: 1.0, Predicted: 1 (0.7495278563888776)\n",
      "Expected: 1.0, Predicted: 1 (0.5772950584306351)\n",
      "Expected: 1.0, Predicted: 1 (0.6933378293615585)\n",
      "Expected: 1.0, Predicted: 0 (0.299399565676527)\n",
      "Expected: 1.0, Predicted: 1 (0.7346515138444197)\n",
      "Expected: 1.0, Predicted: 1 (0.7317653971348662)\n",
      "Expected: 1.0, Predicted: 1 (0.6974586358304204)\n",
      "Expected: 1.0, Predicted: 1 (0.7092773000133209)\n",
      "Expected: 1.0, Predicted: 1 (0.6388066117393706)\n",
      "Expected: 1.0, Predicted: 1 (0.6973320743569688)\n",
      "Expected: 1.0, Predicted: 1 (0.7341213805364095)\n",
      "Expected: 1.0, Predicted: 1 (0.7583833829179949)\n",
      "Expected: 1.0, Predicted: 1 (0.5704908071457319)\n",
      "Expected: 1.0, Predicted: 1 (0.6967369269140754)\n",
      "Expected: 1.0, Predicted: 1 (0.67498905112343)\n",
      "Expected: 1.0, Predicted: 0 (0.2881288285891808)\n",
      "Expected: 1.0, Predicted: 1 (0.5341874556715155)\n",
      "Expected: 1.0, Predicted: 1 (0.6922953576801862)\n",
      "Expected: 0.0, Predicted: 0 (0.19958687745566916)\n",
      "Expected: 0.0, Predicted: 1 (0.6996803714662152)\n",
      "Expected: 0.0, Predicted: 0 (0.2358468967915116)\n",
      "Expected: 0.0, Predicted: 1 (0.5928737681403407)\n",
      "Expected: 0.0, Predicted: 0 (-0.030117110696054796)\n",
      "Expected: 0.0, Predicted: 0 (0.2425959789786388)\n",
      "Expected: 0.0, Predicted: 0 (0.005063434737414729)\n",
      "Expected: 0.0, Predicted: 1 (0.6525288304698175)\n",
      "Expected: 0.0, Predicted: 1 (0.5387312442276981)\n",
      "Expected: 0.0, Predicted: 0 (0.21817007145939663)\n",
      "Expected: 0.0, Predicted: 0 (0.29506769536756194)\n",
      "Expected: 0.0, Predicted: 0 (0.35847120534083726)\n",
      "Expected: 0.0, Predicted: 0 (0.23677664436858842)\n",
      "Expected: 0.0, Predicted: 0 (-0.3867813684490974)\n",
      "Expected: 0.0, Predicted: 1 (0.5400977395399515)\n",
      "Expected: 0.0, Predicted: 1 (0.7017010447225187)\n",
      "Expected: 0.0, Predicted: 0 (0.4815107501775932)\n",
      "Expected: 0.0, Predicted: 1 (0.540087079725364)\n",
      "Expected: 0.0, Predicted: 0 (0.04619192386374102)\n",
      "Expected: 0.0, Predicted: 0 (0.4340957816246011)\n",
      "Expected: 0.0, Predicted: 1 (0.614255689747763)\n",
      "Expected: 0.0, Predicted: 0 (0.16451232304835814)\n",
      "Expected: 0.0, Predicted: 1 (0.6391020761931864)\n",
      "Expected: 0.0, Predicted: 0 (-0.34741830124126594)\n",
      "Expected: 0.0, Predicted: 1 (0.5395255089006443)\n",
      "Expected: 0.0, Predicted: 0 (0.38866435300588353)\n",
      "Expected: 0.0, Predicted: 0 (-0.021700769916502393)\n",
      "Expected: 0.0, Predicted: 0 (0.23143101423668377)\n",
      "Expected: 0.0, Predicted: 1 (0.7024902087539399)\n",
      "Expected: 0.0, Predicted: 1 (0.5386683781006452)\n",
      "Expected: 0.0, Predicted: 0 (0.4601547218186083)\n",
      "Expected: 0.0, Predicted: 0 (0.45923010398655006)\n",
      "Expected: 0.0, Predicted: 1 (0.6156376094970306)\n",
      "Expected: 0.0, Predicted: 0 (0.47715802962277315)\n",
      "Expected: 0.0, Predicted: 1 (0.540157926316519)\n",
      "Expected: 0.0, Predicted: 0 (0.25699755640628924)\n",
      "Expected: 0.0, Predicted: 0 (0.15934963377074265)\n",
      "Expected: 0.0, Predicted: 1 (0.5695116871366503)\n",
      "Expected: 0.0, Predicted: 1 (0.610120002737434)\n",
      "Expected: 0.0, Predicted: 0 (0.4583170758695513)\n",
      "Expected: 0.0, Predicted: 0 (-0.013248018643897581)\n",
      "Expected: 0.0, Predicted: 0 (0.23219307923905688)\n",
      "Expected: 0.0, Predicted: 0 (0.10577317326637647)\n",
      "Expected: 0.0, Predicted: 1 (0.7139261186694634)\n",
      "Expected: 0.0, Predicted: 0 (0.16307910494712463)\n",
      "Expected: 0.0, Predicted: 1 (0.6933140231457103)\n",
      "Expected: 0.0, Predicted: 0 (0.23143326603831682)\n",
      "Expected: 0.0, Predicted: 0 (-0.02048293603376172)\n",
      "Expected: 0.0, Predicted: 1 (0.5184243349321059)\n",
      "Expected: 0.0, Predicted: 0 (0.09390755503331506)\n",
      "Expected: 0.0, Predicted: 0 (0.38921210100714004)\n",
      "Expected: 0.0, Predicted: 0 (0.10220759833787267)\n",
      "Expected: 0.0, Predicted: 0 (0.2985559912293818)\n",
      "Expected: 0.0, Predicted: 1 (0.5452199443012442)\n",
      "Expected: 0.0, Predicted: 0 (0.42895497205342853)\n",
      "Expected: 0.0, Predicted: 1 (0.5836976592397762)\n",
      "Expected: 0.0, Predicted: 1 (0.7116091612132139)\n",
      "Expected: 0.0, Predicted: 0 (0.23282191081185483)\n",
      "Expected: 0.0, Predicted: 1 (0.6996193591425841)\n",
      "Expected: 0.0, Predicted: 1 (0.610881240229634)\n",
      "Expected: 0.0, Predicted: 0 (-0.1936151522273555)\n",
      "Expected: 0.0, Predicted: 1 (0.7127802072815519)\n",
      "Expected: 0.0, Predicted: 0 (0.27876966722315244)\n"
     ]
    }
   ],
   "source": [
    "for y, y_hat in evaluator.test(dataset):\n",
    "    print(f\"Expected: {y}, Predicted: {round(y_hat)} ({y_hat})\")"
   ]
  }
 ],
 "metadata": {
  "colab": {
   "collapsed_sections": [],
   "name": "Mutagenesis.ipynb",
   "provenance": []
  },
  "kernelspec": {
   "display_name": "Python 3 (ipykernel)",
   "language": "python",
   "name": "python3"
  },
  "language_info": {
   "codemirror_mode": {
    "name": "ipython",
    "version": 3
   },
   "file_extension": ".py",
   "mimetype": "text/x-python",
   "name": "python",
   "nbconvert_exporter": "python",
   "pygments_lexer": "ipython3",
   "version": "3.8.10"
  }
 },
 "nbformat": 4,
 "nbformat_minor": 1
}
