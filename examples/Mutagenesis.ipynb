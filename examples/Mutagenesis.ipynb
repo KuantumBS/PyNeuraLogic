{
  "nbformat": 4,
  "nbformat_minor": 0,
  "metadata": {
    "colab": {
      "name": "Mutagenesis.ipynb",
      "provenance": [],
      "collapsed_sections": []
    },
    "kernelspec": {
      "name": "python3",
      "display_name": "Python 3"
    },
    "language_info": {
      "name": "python"
    }
  },
  "cells": [
    {
      "cell_type": "markdown",
      "metadata": {
        "id": "KKVdX_O7ZvY0"
      },
      "source": [
        "# PyNeuraLogic Introduction Example\n",
        "\n",
        "---\n",
        "\n",
        "This example will showcase how to define a model in the PyNeuraLogic language and evaluate it. The example is self-contained - contains everything that is required to be run in colab. It can also be run locally if all prerequisites are met (installed Java)."
      ]
    },
    {
      "cell_type": "markdown",
      "metadata": {
        "id": "8CEE1Vy1Z5pQ"
      },
      "source": [
        "Install PyNeuraLogic from PyPI"
      ]
    },
    {
      "cell_type": "code",
      "metadata": {
        "id": "SujsflJQZ6Nj"
      },
      "source": [
        "! pip install neuralogic==0.0.15"
      ],
      "execution_count": null,
      "outputs": []
    },
    {
      "cell_type": "markdown",
      "metadata": {
        "id": "flQw3rmscE7K"
      },
      "source": [
        "## Dataset\n",
        "\n",
        "We are going to use one of the predefined datasets called [Mutagenesis](https://www.doc.ic.ac.uk/~shm/mutagenesis.html). This dataset contains information about molecules that we are going to classify for mutagenicity on Salmonella typhimurium.\n",
        "\n",
        "Predefined datasets are located in `neuralogic.utils.data`, and by calling `Mutagenesis`, we retrieve a tuple containing the template and the input data (dataset). For this example, we are going to ignore the template and will define our own."
      ]
    },
    {
      "cell_type": "code",
      "metadata": {
        "id": "mglV4jndaL2B"
      },
      "source": [
        "from neuralogic.utils.data import Mutagenesis\n",
        "\n",
        "\n",
        "_, dataset = Mutagenesis()"
      ],
      "execution_count": 2,
      "outputs": []
    },
    {
      "cell_type": "markdown",
      "metadata": {
        "id": "Gk8AIcCFasFV"
      },
      "source": [
        "Predefined examples are loaded from the file. We can check the first sample to get an idea how the data look like."
      ]
    },
    {
      "cell_type": "code",
      "metadata": {
        "colab": {
          "base_uri": "https://localhost:8080/"
        },
        "id": "6VaRsqkIasaZ",
        "outputId": "e0c391ff-139e-4ead-8a5a-fe458f508580"
      },
      "source": [
        "! head -n1 /usr/local/lib/python3.7/dist-packages/neuralogic/utils/data/datasets/molecules/mutagenesis/examples.txt"
      ],
      "execution_count": 3,
      "outputs": [
        {
          "output_type": "stream",
          "name": "stdout",
          "text": [
            "bond(d59_23, d59_5, 0), h_3(d59_23), c_22(d59_5), b_1(0), bond(d59_5, d59_23, 0), bond(d59_20, d59_19, 1), c_21(d59_20), c_21(d59_19), b_7(1), bond(d59_19, d59_20, 1), bond(d59_10, d59_3, 2), c_27(d59_10), c_27(d59_3), b_7(2), bond(d59_3, d59_10, 2), bond(d59_14, d59_10, 3), c_25(d59_14), b_7(3), bond(d59_10, d59_14, 3), bond(d59_4, d59_3, 4), c_22(d59_4), b_7(4), bond(d59_3, d59_4, 4), bond(d59_10, d59_9, 5), c_27(d59_9), b_7(5), bond(d59_9, d59_10, 5), bond(d59_15, d59_28, 6), c_22(d59_15), h_3(d59_28), b_1(6), bond(d59_28, d59_15, 6), bond(d59_12, d59_13, 7), c_27(d59_12), c_27(d59_13), b_7(7), bond(d59_13, d59_12, 7), bond(d59_8, d59_9, 8), c_22(d59_8), b_7(8), bond(d59_9, d59_8, 8), bond(d59_7, d59_25, 9), c_22(d59_7), h_3(d59_25), b_1(9), bond(d59_25, d59_7, 9), bond(d59_30, d59_17, 10), h_3(d59_30), c_22(d59_17), b_1(10), bond(d59_17, d59_30, 10), bond(d59_15, d59_12, 11), b_7(11), bond(d59_12, d59_15, 11), bond(d59_2, d59_1, 12), c_27(d59_2), c_22(d59_1), b_7(12), bond(d59_1, d59_2, 12), bond(d59_17, d59_16, 13), c_22(d59_16), b_7(13), bond(d59_16, d59_17, 13), bond(d59_31, d59_19, 14), h_3(d59_31), b_1(14), bond(d59_19, d59_31, 14), bond(d59_9, d59_11, 15), c_22(d59_11), b_7(15), bond(d59_11, d59_9, 15), bond(d59_3, d59_2, 16), b_7(16), bond(d59_2, d59_3, 16), bond(d59_27, d59_11, 17), h_3(d59_27), b_1(17), bond(d59_11, d59_27, 17), bond(d59_22, d59_4, 18), h_3(d59_22), b_1(18), bond(d59_4, d59_22, 18), bond(d59_7, d59_8, 19), b_7(19), bond(d59_8, d59_7, 19), bond(d59_24, d59_6, 20), h_3(d59_24), c_22(d59_6), b_1(20), bond(d59_6, d59_24, 20), bond(d59_15, d59_16, 21), b_7(21), bond(d59_16, d59_15, 21), bond(d59_7, d59_2, 22), b_7(22), bond(d59_2, d59_7, 22), bond(d59_18, d59_20, 23), c_26(d59_18), b_7(23), bond(d59_20, d59_18, 23), bond(d59_18, d59_17, 24), b_7(24), bond(d59_17, d59_18, 24), bond(d59_18, d59_13, 25), b_7(25), bond(d59_13, d59_18, 25), bond(d59_32, d59_33, 26), n_38(d59_32), o_40(d59_33), b_2(26), bond(d59_33, d59_32, 26), bond(d59_5, d59_6, 27), b_7(27), bond(d59_6, d59_5, 27), bond(d59_6, d59_1, 28), b_7(28), bond(d59_1, d59_6, 28), bond(d59_19, d59_14, 29), b_7(29), bond(d59_14, d59_19, 29), bond(d59_29, d59_16, 30), h_3(d59_29), b_1(30), bond(d59_16, d59_29, 30), bond(d59_11, d59_12, 31), b_7(31), bond(d59_12, d59_11, 31), bond(d59_14, d59_13, 32), b_7(32), bond(d59_13, d59_14, 32), bond(d59_26, d59_8, 33), h_3(d59_26), b_1(33), bond(d59_8, d59_26, 33), bond(d59_32, d59_34, 34), o_40(d59_34), b_2(34), bond(d59_34, d59_32, 34), bond(d59_32, d59_20, 35), b_1(35), bond(d59_20, d59_32, 35), bond(d59_1, d59_21, 36), h_3(d59_21), b_1(36), bond(d59_21, d59_1, 36), bond(d59_5, d59_4, 37), b_7(37), bond(d59_4, d59_5, 37).\n"
          ]
        }
      ]
    },
    {
      "cell_type": "markdown",
      "metadata": {
        "id": "TLfOk69ublG9"
      },
      "source": [
        "This format is slightly different from the PyNeuraLogic language. Such sample would be represented in PyNeuraLogic as:\n",
        "\n",
        "```\n",
        "Relation.bond(Term.d59_23, Term.d59_5, 0), Relation.h_3(Term.d59_23), ...\n",
        "```\n",
        "\n",
        "We are essentially encoding heterogeneous graphs with edges called `bonds`, where the first two terms are atoms identifications, and the third term is the relation identification. Atoms ids are then associated with specific atoms (types), such as `h_3` (hydrogen with id 3). Bonds ids are associated with bond types such as `b_1` etc."
      ]
    },
    {
      "cell_type": "markdown",
      "metadata": {
        "id": "KOZev_cScMQy"
      },
      "source": [
        "## Template\n",
        "\n",
        "To define the template (model's 'architecture'), we first embed each atom to `atom_embed` with unique learnable parameters of shape `[3, 1]`. This can be simplified by utilizing list comprehension."
      ]
    },
    {
      "cell_type": "code",
      "metadata": {
        "id": "vf-ryNvOcOYX"
      },
      "source": [
        "from neuralogic.core import Template, Settings, R, V\n",
        "\n",
        "\n",
        "template = Template()\n",
        "\n",
        "atom_names = [\n",
        "    \"c_26\", \"c_27\", \"c_25\", \"c_28\", \"c_29\", \"o_49\", \"br_94\", \"o_40\", \"o_41\", \"o_42\", \"o_45\", \"i_95\",\n",
        "    \"f_92\", \"h_1\", \"h_3\", \"c_10\", \"c_14\", \"c_194\", \"c_195\", \"c_16\", \"h_8\", \"c_19\", \"c_230\", \"c_232\",\n",
        "    \"o_50\", \"n_36\", \"o_52\", \"n_35\", \"n_34\", \"o_51\", \"n_32\", \"n_31\", \"cl_93\", \"c_21\", \"c_22\", \"n_38\",\n",
        "]\n",
        "\n",
        "template.add_rules([\n",
        "    (R.atom_embed(V.A)[3, 1] <= R.get(atom)(V.A)) for atom in atom_names\n",
        "])"
      ],
      "execution_count": 4,
      "outputs": []
    },
    {
      "cell_type": "markdown",
      "metadata": {
        "id": "qV58Qp-JcVlu"
      },
      "source": [
        "In the same way, we encode embeddings for bonds."
      ]
    },
    {
      "cell_type": "code",
      "metadata": {
        "id": "wuliEkxzcWZJ"
      },
      "source": [
        "template.add_rules([\n",
        "    (R.bond_embed(V.B)[3, 1] <= R.get(bond)(V.B)) for bond in [\"b_1\", \"b_2\", \"b_3\", \"b_4\", \"b_5\", \"b_7\"]\n",
        "])"
      ],
      "execution_count": 5,
      "outputs": []
    },
    {
      "cell_type": "markdown",
      "metadata": {
        "id": "yMI5Icgrccum"
      },
      "source": [
        "We add one rule (layer), which follows the message passing framework. It aggregates all neighbors `Y` (nodes connected by bond relation) of the central node `X` and projects representations of `X` and `Y` from the previous layer (`atom_embed`) through learnable parameters of shape `[3, 3]`.  We then combine those projections together with bond embedding. We get a list of values for each neighbor `Y`, which are again combined into one tensor to serve as the output of the relation `layer_1` for node `X`."
      ]
    },
    {
      "cell_type": "code",
      "metadata": {
        "id": "YAGhZIy9cdcg"
      },
      "source": [
        "template.add_rule(\n",
        "    R.layer_1(V.X) <= (R.atom_embed(V.X)[3, 3], R.atom_embed(V.Y)[3, 3], R.bond(V.X, V.Y, V.B), R.bond_embed(V.B)),\n",
        ")"
      ],
      "execution_count": 6,
      "outputs": []
    },
    {
      "cell_type": "markdown",
      "metadata": {
        "id": "GA5ehjCNcnlu"
      },
      "source": [
        "In the same way, we add another two layers that are connected by utilizing representations from the previous layer. "
      ]
    },
    {
      "cell_type": "code",
      "metadata": {
        "id": "df_vNmbwcoIF"
      },
      "source": [
        "template.add_rules([\n",
        "    R.layer_2(V.X) <= (R.layer_1(V.X)[3, 3], R.layer_1(V.Y)[3, 3], R.bond(V.X, V.Y, V.B), R.bond_embed(V.B)),\n",
        "    R.layer_3(V.X) <= (R.layer_2(V.X)[3, 3], R.layer_2(V.Y)[3, 3], R.bond(V.X, V.Y, V.B), R.bond_embed(V.B)),\n",
        "])"
      ],
      "execution_count": 7,
      "outputs": []
    },
    {
      "cell_type": "markdown",
      "metadata": {
        "id": "4ZhNNrfrcuw7"
      },
      "source": [
        "In the last layer, we aggregate all nodes' (atoms') representations from the previous layer (`layer_3`), combine them, and project them through the learnable parameter of shape `[1, 3]` into a scalar value. This layer is our target output layer (specified by queries)."
      ]
    },
    {
      "cell_type": "code",
      "metadata": {
        "id": "K29q8NvLcvq4"
      },
      "source": [
        "template.add_rule(\n",
        "    R.predict[1, 3] <= R.layer_3(V.X),\n",
        ")"
      ],
      "execution_count": 8,
      "outputs": []
    },
    {
      "cell_type": "markdown",
      "metadata": {
        "id": "uju8LDYwcy2m"
      },
      "source": [
        "## Training\n",
        "\n",
        "When we have our dataset and template ready, it's time to build and train the model. We can do the training manually and write our own custom training loop, but we can also use predefined helpers - evaluators, that handle model building, training, dataset building, and more. Evaluators can be customized via `Settings`."
      ]
    },
    {
      "cell_type": "code",
      "metadata": {
        "id": "OvixrLnZc2Ao"
      },
      "source": [
        "from neuralogic.core import Backend, Settings, Optimizer, ErrorFunction\n",
        "from neuralogic.nn import get_evaluator\n",
        "\n",
        "\n",
        "epochs = 120\n",
        "\n",
        "settings = Settings(optimizer=Optimizer.ADAM, epochs=epochs, learning_rate=0.001, error_function=ErrorFunction.SQUARED_DIFF)\n",
        "evaluator = get_evaluator(template, Backend.JAVA, settings)"
      ],
      "execution_count": 9,
      "outputs": []
    },
    {
      "cell_type": "markdown",
      "metadata": {
        "id": "t-AH9fwFddSn"
      },
      "source": [
        "We iterate over the iterator encapsulated in the `train` method for training, which yields a total loss of the epoch and the number of samples of the current epoch. We then get access to results from the training loop that we can further visualize, inspect, log, etc."
      ]
    },
    {
      "cell_type": "code",
      "metadata": {
        "colab": {
          "base_uri": "https://localhost:8080/",
          "height": 279
        },
        "id": "sSVqIDvoddzV",
        "outputId": "9b4ed322-e895-4005-8f03-5e6486b159c7"
      },
      "source": [
        "from IPython.display import clear_output\n",
        "import matplotlib.pyplot as plt\n",
        "\n",
        "\n",
        "average_losses = []\n",
        "\n",
        "for current_total_loss, number_of_samples in evaluator.train(dataset):\n",
        "    clear_output(wait=True)\n",
        "    plt.ylabel(\"Loss\")\n",
        "    plt.xlabel(\"Epoch\")\n",
        "\n",
        "    plt.xlim(0, epochs)\n",
        "\n",
        "    average_losses.append(current_total_loss / number_of_samples)\n",
        "    \n",
        "    plt.plot(average_losses, label=\"Average loss\")\n",
        "\n",
        "    plt.legend()\n",
        "    plt.pause(0.001)\n",
        "    plt.show()"
      ],
      "execution_count": 10,
      "outputs": [
        {
          "output_type": "display_data",
          "data": {
            "image/png": "[encoded data removed]",
            "text/plain": [
              "<Figure size 432x288 with 1 Axes>"
            ]
          },
          "metadata": {
            "needs_background": "light"
          }
        }
      ]
    },
    {
      "cell_type": "markdown",
      "metadata": {
        "id": "Jl4xOLjP0vOG"
      },
      "source": [
        "We can also check what values are the model outputs for our training set by utilizing the `test` method."
      ]
    },
    {
      "cell_type": "code",
      "metadata": {
        "colab": {
          "base_uri": "https://localhost:8080/"
        },
        "id": "OrRL7-wk0t_L",
        "outputId": "9f62a6ce-b29d-4d1a-947f-eb16f5d93683"
      },
      "source": [
        "for y, y_hat in evaluator.test(dataset):\n",
        "    print(f\"Expected: {y}, Predicted: {round(y_hat)} ({y_hat})\")"
      ],
      "execution_count": 11,
      "outputs": [
        {
          "output_type": "stream",
          "name": "stdout",
          "text": [
            "Expected: 1.0, Predicted: 1 (0.8525149348120283)\n",
            "Expected: 1.0, Predicted: 1 (0.8406984722243998)\n",
            "Expected: 1.0, Predicted: 1 (0.5513105191358397)\n",
            "Expected: 1.0, Predicted: 1 (0.659408747421369)\n",
            "Expected: 1.0, Predicted: 0 (0.15425569739005515)\n",
            "Expected: 1.0, Predicted: 1 (0.7255243020373396)\n",
            "Expected: 1.0, Predicted: 1 (0.7251277795783413)\n",
            "Expected: 1.0, Predicted: 1 (0.6238415741463218)\n",
            "Expected: 1.0, Predicted: 1 (0.7620417539713201)\n",
            "Expected: 1.0, Predicted: 1 (0.5948472403419247)\n",
            "Expected: 1.0, Predicted: 1 (0.6176828308931789)\n",
            "Expected: 1.0, Predicted: 1 (0.6661693199510753)\n",
            "Expected: 1.0, Predicted: 0 (0.48132840572743035)\n",
            "Expected: 1.0, Predicted: 0 (0.4892026371525004)\n",
            "Expected: 1.0, Predicted: 1 (0.7076789130574959)\n",
            "Expected: 1.0, Predicted: 0 (0.4612140223363981)\n",
            "Expected: 1.0, Predicted: 1 (0.7609292703378968)\n",
            "Expected: 1.0, Predicted: 1 (0.752255975731027)\n",
            "Expected: 1.0, Predicted: 1 (0.6752308969243719)\n",
            "Expected: 1.0, Predicted: 1 (0.793958006608344)\n",
            "Expected: 1.0, Predicted: 1 (0.8409377252540547)\n",
            "Expected: 1.0, Predicted: 1 (0.678057270772646)\n",
            "Expected: 1.0, Predicted: 1 (0.7064689516956131)\n",
            "Expected: 1.0, Predicted: 1 (0.7256229643128213)\n",
            "Expected: 1.0, Predicted: 1 (0.7609292703378966)\n",
            "Expected: 1.0, Predicted: 1 (0.6994746709821419)\n",
            "Expected: 1.0, Predicted: 1 (0.7968138846016858)\n",
            "Expected: 1.0, Predicted: 0 (0.4067003060864471)\n",
            "Expected: 1.0, Predicted: 0 (0.37124314575567446)\n",
            "Expected: 1.0, Predicted: 0 (0.4333202550121217)\n",
            "Expected: 1.0, Predicted: 1 (0.653092587939087)\n",
            "Expected: 1.0, Predicted: 1 (0.8212938172519917)\n",
            "Expected: 1.0, Predicted: 0 (0.496476702082529)\n",
            "Expected: 1.0, Predicted: 1 (0.768185554161718)\n",
            "Expected: 1.0, Predicted: 1 (0.5316165041509707)\n",
            "Expected: 1.0, Predicted: 1 (0.8093725902473572)\n",
            "Expected: 1.0, Predicted: 1 (0.6172533548553341)\n",
            "Expected: 1.0, Predicted: 1 (0.8202455749218366)\n",
            "Expected: 1.0, Predicted: 1 (0.8069245693269514)\n",
            "Expected: 1.0, Predicted: 1 (0.8212717154467715)\n",
            "Expected: 1.0, Predicted: 1 (0.7077107035059184)\n",
            "Expected: 1.0, Predicted: 1 (0.8063062013664053)\n",
            "Expected: 1.0, Predicted: 1 (0.8073134299758598)\n",
            "Expected: 1.0, Predicted: 1 (0.8424564003955591)\n",
            "Expected: 1.0, Predicted: 1 (0.8653477362020634)\n",
            "Expected: 1.0, Predicted: 1 (0.7636954897467868)\n",
            "Expected: 1.0, Predicted: 1 (0.6527150372427611)\n",
            "Expected: 1.0, Predicted: 1 (0.7441003553154403)\n",
            "Expected: 1.0, Predicted: 1 (0.8331059789669734)\n",
            "Expected: 1.0, Predicted: 1 (0.8403027041017945)\n",
            "Expected: 1.0, Predicted: 1 (0.5969227047930667)\n",
            "Expected: 1.0, Predicted: 1 (0.5996133629381318)\n",
            "Expected: 1.0, Predicted: 1 (0.8398681809146483)\n",
            "Expected: 1.0, Predicted: 1 (0.7805093221844009)\n",
            "Expected: 1.0, Predicted: 1 (0.6342335420603957)\n",
            "Expected: 1.0, Predicted: 0 (0.39105398966113775)\n",
            "Expected: 1.0, Predicted: 0 (-0.12045598995633201)\n",
            "Expected: 1.0, Predicted: 1 (0.5608149431595354)\n",
            "Expected: 1.0, Predicted: 1 (0.5511428204297278)\n",
            "Expected: 1.0, Predicted: 0 (0.4923547029232162)\n",
            "Expected: 1.0, Predicted: 1 (0.7832166308655751)\n",
            "Expected: 1.0, Predicted: 1 (0.6715200469332236)\n",
            "Expected: 1.0, Predicted: 1 (0.8128229257988923)\n",
            "Expected: 1.0, Predicted: 1 (0.8122078164444658)\n",
            "Expected: 1.0, Predicted: 1 (0.5273061923825134)\n",
            "Expected: 1.0, Predicted: 1 (0.7706203098500275)\n",
            "Expected: 1.0, Predicted: 1 (0.8509595308104544)\n",
            "Expected: 1.0, Predicted: 1 (0.7456420715381293)\n",
            "Expected: 1.0, Predicted: 1 (0.8139674571088684)\n",
            "Expected: 1.0, Predicted: 1 (0.8382555505299267)\n",
            "Expected: 1.0, Predicted: 1 (0.815482557100712)\n",
            "Expected: 1.0, Predicted: 1 (0.7597952735295258)\n",
            "Expected: 1.0, Predicted: 1 (0.8313768648061821)\n",
            "Expected: 1.0, Predicted: 1 (0.6791607281437597)\n",
            "Expected: 1.0, Predicted: 1 (0.8992851738891098)\n",
            "Expected: 1.0, Predicted: 1 (0.793867783135699)\n",
            "Expected: 1.0, Predicted: 1 (0.8543887735988753)\n",
            "Expected: 1.0, Predicted: 1 (0.7455446758583699)\n",
            "Expected: 1.0, Predicted: 1 (0.7097574128484283)\n",
            "Expected: 1.0, Predicted: 1 (0.6187276255629972)\n",
            "Expected: 1.0, Predicted: 1 (0.6758438571964736)\n",
            "Expected: 1.0, Predicted: 1 (0.715930089264199)\n",
            "Expected: 1.0, Predicted: 1 (0.594172018338055)\n",
            "Expected: 1.0, Predicted: 1 (0.6187210075287034)\n",
            "Expected: 1.0, Predicted: 1 (0.8409373508850432)\n",
            "Expected: 1.0, Predicted: 0 (0.3653629204575645)\n",
            "Expected: 1.0, Predicted: 1 (0.7368639973445938)\n",
            "Expected: 1.0, Predicted: 1 (0.6464115234171598)\n",
            "Expected: 1.0, Predicted: 1 (0.5522038856361461)\n",
            "Expected: 1.0, Predicted: 1 (0.6737005860264423)\n",
            "Expected: 1.0, Predicted: 1 (0.710873016840633)\n",
            "Expected: 1.0, Predicted: 1 (0.7978071514859411)\n",
            "Expected: 1.0, Predicted: 1 (0.7976329854045334)\n",
            "Expected: 1.0, Predicted: 0 (0.49235470292321615)\n",
            "Expected: 1.0, Predicted: 1 (0.7874690747060005)\n",
            "Expected: 1.0, Predicted: 1 (0.8315298693392499)\n",
            "Expected: 1.0, Predicted: 1 (0.740652340330858)\n",
            "Expected: 1.0, Predicted: 1 (0.5560809108702301)\n",
            "Expected: 1.0, Predicted: 1 (0.7592980718838094)\n",
            "Expected: 1.0, Predicted: 1 (0.8411854419742637)\n",
            "Expected: 1.0, Predicted: 1 (0.6563119319605154)\n",
            "Expected: 1.0, Predicted: 1 (0.7000218394949134)\n",
            "Expected: 1.0, Predicted: 1 (0.8190163647026715)\n",
            "Expected: 1.0, Predicted: 1 (0.6254003370847184)\n",
            "Expected: 1.0, Predicted: 1 (0.617919114231811)\n",
            "Expected: 1.0, Predicted: 1 (0.7702179309531416)\n",
            "Expected: 1.0, Predicted: 1 (0.7368639973445938)\n",
            "Expected: 1.0, Predicted: 1 (0.8279025800425088)\n",
            "Expected: 1.0, Predicted: 1 (0.5437600728751584)\n",
            "Expected: 1.0, Predicted: 1 (0.6768706752753834)\n",
            "Expected: 1.0, Predicted: 1 (0.5513105191358397)\n",
            "Expected: 1.0, Predicted: 1 (0.7616284727157712)\n",
            "Expected: 1.0, Predicted: 1 (0.8504416134319333)\n",
            "Expected: 1.0, Predicted: 1 (0.7920961287674417)\n",
            "Expected: 1.0, Predicted: 1 (0.8073134299758596)\n",
            "Expected: 1.0, Predicted: 1 (0.8149170936969017)\n",
            "Expected: 1.0, Predicted: 1 (0.7842443849749909)\n",
            "Expected: 1.0, Predicted: 1 (0.785416557467796)\n",
            "Expected: 1.0, Predicted: 1 (0.828901747341174)\n",
            "Expected: 1.0, Predicted: 1 (0.6072193819734321)\n",
            "Expected: 1.0, Predicted: 1 (0.7917101805734851)\n",
            "Expected: 1.0, Predicted: 1 (0.7345502144727097)\n",
            "Expected: 1.0, Predicted: 0 (0.3999156549699005)\n",
            "Expected: 1.0, Predicted: 0 (0.4936113697764892)\n",
            "Expected: 1.0, Predicted: 1 (0.5502914513720693)\n",
            "Expected: 0.0, Predicted: 0 (-0.1280634478791816)\n",
            "Expected: 0.0, Predicted: 1 (0.51154978964658)\n",
            "Expected: 0.0, Predicted: 0 (0.19508700822780317)\n",
            "Expected: 0.0, Predicted: 1 (0.5554792304808507)\n",
            "Expected: 0.0, Predicted: 0 (0.005506059906870916)\n",
            "Expected: 0.0, Predicted: 0 (0.24133007319436142)\n",
            "Expected: 0.0, Predicted: 0 (0.13675208816009204)\n",
            "Expected: 0.0, Predicted: 1 (0.6978209977333353)\n",
            "Expected: 0.0, Predicted: 1 (0.5120192101858542)\n",
            "Expected: 0.0, Predicted: 0 (0.39036071200040123)\n",
            "Expected: 0.0, Predicted: 0 (0.15713075061622903)\n",
            "Expected: 0.0, Predicted: 0 (-0.037637510827264846)\n",
            "Expected: 0.0, Predicted: 0 (0.025584992130633175)\n",
            "Expected: 0.0, Predicted: 0 (-0.47402670321004536)\n",
            "Expected: 0.0, Predicted: 1 (0.5329432918961019)\n",
            "Expected: 0.0, Predicted: 1 (0.5386838174823213)\n",
            "Expected: 0.0, Predicted: 0 (0.4434257943698866)\n",
            "Expected: 0.0, Predicted: 1 (0.5208203817227156)\n",
            "Expected: 0.0, Predicted: 0 (-0.09490442929919363)\n",
            "Expected: 0.0, Predicted: 0 (-0.025685340746195225)\n",
            "Expected: 0.0, Predicted: 0 (0.18686430468928703)\n",
            "Expected: 0.0, Predicted: 0 (0.09147933413828606)\n",
            "Expected: 0.0, Predicted: 1 (0.5801700995050052)\n",
            "Expected: 0.0, Predicted: 0 (-0.2093116601988766)\n",
            "Expected: 0.0, Predicted: 0 (0.4395016341086582)\n",
            "Expected: 0.0, Predicted: 1 (0.7416658285200223)\n",
            "Expected: 0.0, Predicted: 0 (0.047601522008152986)\n",
            "Expected: 0.0, Predicted: 0 (0.20602148481295743)\n",
            "Expected: 0.0, Predicted: 0 (0.4590455940394069)\n",
            "Expected: 0.0, Predicted: 1 (0.5195786186717555)\n",
            "Expected: 0.0, Predicted: 1 (0.7648967804292027)\n",
            "Expected: 0.0, Predicted: 1 (0.7653223234513375)\n",
            "Expected: 0.0, Predicted: 1 (0.6472678180755326)\n",
            "Expected: 0.0, Predicted: 0 (0.42991406255505216)\n",
            "Expected: 0.0, Predicted: 1 (0.5031360292474668)\n",
            "Expected: 0.0, Predicted: 0 (0.12361775726927819)\n",
            "Expected: 0.0, Predicted: 0 (0.0745542502541594)\n",
            "Expected: 0.0, Predicted: 1 (0.6216654638839085)\n",
            "Expected: 0.0, Predicted: 0 (0.2603289331624621)\n",
            "Expected: 0.0, Predicted: 1 (0.7557810048306369)\n",
            "Expected: 0.0, Predicted: 0 (-0.24324019831480537)\n",
            "Expected: 0.0, Predicted: 0 (-0.07161870400753112)\n",
            "Expected: 0.0, Predicted: 0 (-0.041539381319111855)\n",
            "Expected: 0.0, Predicted: 1 (0.7422747089811393)\n",
            "Expected: 0.0, Predicted: 0 (0.07908770266318021)\n",
            "Expected: 0.0, Predicted: 0 (0.27706604556320424)\n",
            "Expected: 0.0, Predicted: 0 (0.2045343428078561)\n",
            "Expected: 0.0, Predicted: 0 (-0.24887254904286452)\n",
            "Expected: 0.0, Predicted: 0 (0.47970777448262236)\n",
            "Expected: 0.0, Predicted: 0 (-0.07008757038589146)\n",
            "Expected: 0.0, Predicted: 0 (0.37079951665682137)\n",
            "Expected: 0.0, Predicted: 0 (-0.04572311595760652)\n",
            "Expected: 0.0, Predicted: 0 (0.17476237007255455)\n",
            "Expected: 0.0, Predicted: 1 (0.7041682696059851)\n",
            "Expected: 0.0, Predicted: 0 (-0.012529818844082294)\n",
            "Expected: 0.0, Predicted: 0 (0.47335622791939563)\n",
            "Expected: 0.0, Predicted: 1 (0.7340688565747282)\n",
            "Expected: 0.0, Predicted: 0 (0.21520257385008093)\n",
            "Expected: 0.0, Predicted: 0 (0.449914766415157)\n",
            "Expected: 0.0, Predicted: 0 (0.2422895932691044)\n",
            "Expected: 0.0, Predicted: 0 (-0.10676508068452051)\n",
            "Expected: 0.0, Predicted: 1 (0.7064565503884663)\n",
            "Expected: 0.0, Predicted: 0 (0.36397368608681024)\n"
          ]
        }
      ]
    }
  ]
}